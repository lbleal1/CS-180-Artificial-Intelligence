{
 "cells": [
  {
   "cell_type": "markdown",
   "metadata": {},
   "source": [
    "# Machine Problem  1 - Path Planning\n",
    " **Cruz, Rianna**   \n",
    " **Leal, Lois Anne**"
   ]
  },
  {
   "cell_type": "markdown",
   "metadata": {},
   "source": [
    "## Problem Description: \n",
    "Consider the problem of finding the shortest path between two points on a plane that has polygonal obstacles. This is an idealization of the problem a robot has to solve to navigate it way around a crowded environment."
   ]
  },
  {
   "cell_type": "markdown",
   "metadata": {},
   "source": [
    "## Solution Proper:"
   ]
  },
  {
   "cell_type": "markdown",
   "metadata": {},
   "source": [
    "### 1. Setting up state space"
   ]
  },
  {
   "cell_type": "code",
   "execution_count": 1,
   "metadata": {},
   "outputs": [],
   "source": [
    "import re\n",
    "\n",
    "def read_input(filename):\n",
    "    file = open (filename, 'r+', encoding='utf-8')\n",
    "    point = r'([\\d]+,[\\d]+)'\n",
    "\n",
    "    start = tuple(map(int, re.search(point, file.readline())[0].split(',')))\n",
    "    goal  = tuple(map(int, re.search(point, file.readline())[0].split(',')))\n",
    "\n",
    "    shapes = []\n",
    "    for line in file:\n",
    "        shape = []\n",
    "        for point_i in re.findall(point, line):\n",
    "            point_int = map(int, point_i.split(','))\n",
    "            shape.append(list(point_int))\n",
    "        shapes.append(shape)\n",
    "\n",
    "    file.close()\n",
    "    return start, goal, shapes"
   ]
  },
  {
   "cell_type": "code",
   "execution_count": 2,
   "metadata": {},
   "outputs": [],
   "source": [
    "import matplotlib.pyplot as plt\n",
    "\n",
    "def plot_polygon(coord):\n",
    "    coord.append(coord[0]) #repeat the first point to create a 'closed loop'\n",
    "    xs, ys = zip(*coord) #create lists of x and y values\n",
    "    plt.plot(xs,ys, linewidth=10) \n",
    "\n",
    "def plot_point(pt):\n",
    "    plt.scatter(pt[0], pt[1], 30)"
   ]
  },
  {
   "cell_type": "code",
   "execution_count": 3,
   "metadata": {},
   "outputs": [
    {
     "data": {
      "image/png": "[encoded data removed]",
      "text/plain": [
       "<Figure size 432x288 with 1 Axes>"
      ]
     },
     "metadata": {
      "needs_background": "light"
     },
     "output_type": "display_data"
    },
    {
     "data": {
      "image/png": "[encoded data removed]",
      "text/plain": [
       "<Figure size 432x288 with 1 Axes>"
      ]
     },
     "metadata": {
      "needs_background": "light"
     },
     "output_type": "display_data"
    }
   ],
   "source": [
    "import matplotlib.pyplot as plt\n",
    "import numpy as np\n",
    "import cv2\n",
    "\n",
    "startNode, goalNode, shapes = read_input('in.txt')\n",
    "\n",
    "plt.figure()\n",
    "plt.gca().invert_yaxis()\n",
    "\n",
    "for shape in shapes:\n",
    "    plot_polygon(shape)\n",
    "\n",
    "plot_point(startNode)\n",
    "plot_point(goalNode)\n",
    "plot_point((100, 200))\n",
    "\n",
    "plt.axis('off')\n",
    "plt.savefig('maze.png')\n",
    "plt.clf() \n",
    "\n",
    "img = cv2.imread('maze.png', cv2.IMREAD_GRAYSCALE)\n",
    "light = cv2.resize(img, (200, 100))\n",
    "\n",
    "imgplot = plt.imshow(img, cmap='Greys_r')\n",
    "plt.axis('off')\n",
    "plt.show()\n",
    "\n",
    "plt.axis('off')\n",
    "grid = np.zeros((100, 200))\n",
    "\n",
    "for row, row_points in enumerate(light):\n",
    "    for col, col_val in enumerate(row_points):\n",
    "        if col_val < 255:\n",
    "            grid[row][col] = 1"
   ]
  },
  {
   "cell_type": "markdown",
   "metadata": {},
   "source": [
    "### 3. Convert from Grid to Graph Dictionary"
   ]
  },
  {
   "cell_type": "markdown",
   "metadata": {},
   "source": [
    "This does the trick. For each cell in the grid, we see them as nodes of the graph. In the code below, what it does is that, for each node in the grid, we consider as a parent node and its children as the possible moves which are left, right, top and bottom. \n",
    "\n",
    "Thus the format of the Graph Dictionary is:\n",
    "parent: children\n",
    "\n",
    "***Note***: Cells that belong to the side of the polygon obstacles are not included in the parent node and also in the children of the other nodes."
   ]
  },
  {
   "cell_type": "code",
   "execution_count": 4,
   "metadata": {},
   "outputs": [],
   "source": [
    "from collections import defaultdict \n",
    "\n",
    "def addEdge(graph,u,v): \n",
    "    graph[u].append(v)\n",
    "\n",
    "\n",
    "def createGraph(grid):\n",
    "    #get the size of the grid\n",
    "    rows = len(grid) \n",
    "    cols = len(grid[0])\n",
    "\n",
    "    graph = defaultdict(list) \n",
    "    \n",
    "    for row in range(rows):\n",
    "        for col in range(cols):\n",
    "            # move only when there's a space to move in the direction\n",
    "            # and the considered point is not a point in the obstacle side\n",
    "        \n",
    "            if col != 0 and grid[row][col]!=1:\n",
    "                addEdge(graph,(row,col),(row,col-1)) #left\n",
    "            \n",
    "            if col < cols-1 and grid[row][col]!=1:\n",
    "                addEdge(graph,(row,col),(row,col+1)) #right\n",
    "            \n",
    "            if row != 0 and grid[row][col]!=1:\n",
    "                addEdge(graph,(row,col),(row-1,col)) #top\n",
    "            \n",
    "            if row < rows-1 and grid[row][col]!=1:\n",
    "                addEdge(graph,(row,col),(row+1,col)) #bottom\n",
    "    \n",
    "    return graph\n",
    "\n",
    "graph = createGraph(grid)  #create the graph dictionary"
   ]
  },
  {
   "cell_type": "code",
   "execution_count": null,
   "metadata": {},
   "outputs": [],
   "source": [
    "#print graph \n",
    "for k,v in graph.items():\n",
    "    print(k,':',v)"
   ]
  },
  {
   "cell_type": "markdown",
   "metadata": {},
   "source": [
    "### 4. Search Algorithms"
   ]
  },
  {
   "cell_type": "markdown",
   "metadata": {},
   "source": [
    "### I. Breadth-First Search(BFS) Implementation  \n",
    "\n",
    "Given the starting and goal point, we are tasked to know the shortest solution path between those two points using the Breadth First Search Algorithm. \n",
    "\n",
    "It is solved by the ff:\n",
    "\n",
    "**Data Structures**\n",
    "We use two data structures:\n",
    "   \n",
    "   (1) *parent* is a dictionary to know the parent of the given node.\n",
    "   \n",
    "   (2) *fringe* is a queue.\n",
    "\n",
    "**We proceed to the process:**\n",
    "\n",
    "1.we append the starting node to the fringe\n",
    "\n",
    "2.we explore while the fringe still has nodes\n",
    "   \n",
    "3.so we pop the first element of the fringe\n",
    "   \n",
    "4.put this to the expanded node\n",
    "*Note:* we enable duplicates with the nodes such that an explored node may still be considered\n",
    "  \n",
    "5.We check if the node that is expanded is the goal. We stop if it is and if not, we continue\n",
    "   \n",
    "6.Since it's not the goal node, we look to its children\n",
    "that is if the node is not in the fringe, we append it\n",
    "to the fringe. \n",
    "\n",
    "**Caution! The Nature of Starting and Goal Point**\n",
    "\n",
    "However, we need to consider the nature of starting and goal point in telling who's the parent and who's the child for backtracking purposes later to get the solution path if we reached the goal. \n",
    "     \n",
    "So if the start point is found above or in the same row as the goal point, we will only assign the parent-child relationship such that only those who are in the higher rows or\n",
    "in the same row can parent but not those who are below them can parent the ones above. \n",
    "\n",
    "On the other hand, if the start point is found below or in the same row as the goal point,\n",
    "we will only assign the parent-child relationship such that only those who are in the lower rows or in the same row can parent but not those who are above them can parent the ones below. \n",
    "\n",
    "***Why?***\n",
    "\n",
    "Since we are considering graphs, it is possible to have cycles. If we do not include those conditions, there will come a time that the above node can parent the below and the below can parent the above, thus if we backtrack say (3,0) is the parent of (4,0), then it would ask, who is the parent of (3,0) then we will find that it is (4,0) and it will just loop forever--which we do not want to happen.\n",
    "\n",
    "We implement this solution in the code below:"
   ]
  },
  {
   "cell_type": "code",
   "execution_count": 5,
   "metadata": {},
   "outputs": [
    {
     "name": "stdout",
     "output_type": "stream",
     "text": [
      "starting point: (1, 1)\n",
      "goal point: (10, 10)\n",
      "solution Path: [(1, 1), (2, 1), (3, 1), (4, 1), (5, 1), (6, 1), (7, 1), (8, 1), (9, 1), (10, 1), (10, 2), (10, 3), (10, 4), (10, 5), (10, 6), (10, 7), (10, 8), (10, 9), (10, 10)]\n",
      "cost of the solution: 19\n",
      "number of expanded nodes: 2721\n",
      "actual running time of the program: 0.04115629196166992\n"
     ]
    }
   ],
   "source": [
    "import time\n",
    "start = time.time()\n",
    "\n",
    "expandedNode = []\n",
    "\n",
    "def backtrace(parent, start, end):\n",
    "    path = [end]\n",
    "    while path[-1] != start:\n",
    "        add = parent[path[-1]]\n",
    "        path.append(add)\n",
    "    path.reverse()\n",
    "    return path\n",
    "      \n",
    "def bfs(graph, start, goal):\n",
    "    parent = {} \n",
    "    fringe = [] \n",
    "    fringe.append(start) #append starting node\n",
    "    \n",
    "    while fringe: #explore til the fringe is not empty!\n",
    "        node = fringe.pop(0) #get vertex\n",
    "        expandedNode.append(node) #append the considered vertex to the Expanded Nodes\n",
    "        if node == goal: #if reaches goal node\n",
    "            return backtrace(parent, start, goal)\n",
    "        for adjacent in graph.get(node, []): #consider the children of the popped node \n",
    "            if node not in fringe:     \n",
    "                if start[0]<=goal[0]:\n",
    "                  if adjacent[0] >= node[0]:\n",
    "                    parent[adjacent] = node  \n",
    "                if start[0]>=goal[0]:\n",
    "                    if adjacent[0] <= node[0]:\n",
    "                      parent[adjacent] = node  \n",
    "                fringe.append(adjacent) \n",
    "\n",
    "print(\"starting point:\", startNode)\n",
    "print(\"goal point:\", goalNode)\n",
    "path=bfs(graph, startNode, goalNode)\n",
    "print(\"solution Path:\",path)\n",
    "print(\"cost of the solution:\", len(path))\n",
    "print(\"number of expanded nodes:\",len(expandedNode))\n",
    "end = time.time()\n",
    "print(\"actual running time of the program:\", end - start)"
   ]
  },
  {
   "cell_type": "markdown",
   "metadata": {},
   "source": [
    "**Seeing the solution path visually we have**\n",
    "\n",
    "note to Lois and Ri! insert below the plot of solution path and the state space\n",
    "\n",
    "From sir carlo: Describe and show the diagram/picture of the input files that you have created and the solution path generated"
   ]
  },
  {
   "cell_type": "code",
   "execution_count": null,
   "metadata": {},
   "outputs": [],
   "source": [
    "#just edit this to show the path in the grid \n",
    "gridResultBFS = grid #Be sure to do this! We still want to reuse the statespace in the next algos\n",
    "for (i,j) in path:\n",
    "    gridResultBFS[i][j]= '*'\n",
    "print(grid) #change this to plot!!!"
   ]
  },
  {
   "cell_type": "markdown",
   "metadata": {},
   "source": [
    "### II. Depth-First Search(DFS) Implementation  \n",
    "\n",
    "Given the starting and goal point, we are tasked to know the shortest solution path between those two points using the Depth-First Search Algorithm. \n",
    "\n",
    "It is solved by the ff:\n",
    "\n",
    "**Data Structures**\n",
    "We use two data structures:\n",
    "   \n",
    "   (1) *path* is a dictionary to know the parent of the given node.\n",
    "   \n",
    "   (2) *visited* is a queue.\n",
    "\n",
    "   (3) *fringe* is a priority queue. \n",
    "   \n",
    "**We proceed to the process:**\n",
    "\n",
    "1.we put the starting node in the fringe with priority 0\n",
    "\n",
    "2.we explore while the fringe still has nodes\n",
    "   \n",
    "3.so we pop the first element of the fringe which has the highest priority\n",
    "   \n",
    "4.put this to the expanded node\n",
    "  \n",
    "5.We check if the node that is expanded is the goal. We stop if it is and if not, we continue\n",
    "\n",
    "6.Since it's not the goal node, we look to its children\n",
    "that is if the node is not in the fringe, we append it\n",
    "to the fringe. \n",
    "\n",
    "7.Since in working with dfs, the fringe does the trick, we assign the priority depending on the depth of the node. We put the negative sign so that we consider them first as this is dfs. \n",
    "This also let us not use anymore the parent dictionary. \n",
    "\n",
    "\n",
    "We implement this solution in the code below:"
   ]
  },
  {
   "cell_type": "code",
   "execution_count": 6,
   "metadata": {},
   "outputs": [
    {
     "name": "stdout",
     "output_type": "stream",
     "text": [
      "starting point: (1, 1)\n",
      "goal point: (10, 10)\n",
      "solution path: [(1, 1), (0, 1), (0, 0), (1, 0), (2, 0), (2, 1), (2, 2), (1, 2), (0, 2), (0, 3), (0, 4), (0, 5), (0, 6), (0, 7), (0, 8), (0, 9), (0, 10), (0, 11), (0, 12), (0, 13), (0, 14), (0, 15), (0, 16), (0, 17), (0, 18), (0, 19), (0, 20), (0, 21), (0, 22), (0, 23), (0, 24), (0, 25), (0, 26), (0, 27), (0, 28), (0, 29), (0, 30), (0, 31), (0, 32), (0, 33), (0, 34), (0, 35), (0, 36), (0, 37), (0, 38), (0, 39), (0, 40), (0, 41), (0, 42), (0, 43), (0, 44), (0, 45), (0, 46), (0, 47), (0, 48), (0, 49), (0, 50), (0, 51), (0, 52), (0, 53), (0, 54), (0, 55), (0, 56), (0, 57), (0, 58), (0, 59), (0, 60), (0, 61), (0, 62), (0, 63), (0, 64), (0, 65), (0, 66), (0, 67), (0, 68), (0, 69), (0, 70), (0, 71), (0, 72), (0, 73), (0, 74), (0, 75), (0, 76), (0, 77), (0, 78), (0, 79), (0, 80), (0, 81), (0, 82), (0, 83), (0, 84), (0, 85), (0, 86), (0, 87), (0, 88), (0, 89), (0, 90), (0, 91), (0, 92), (0, 93), (0, 94), (0, 95), (0, 96), (0, 97), (0, 98), (0, 99), (0, 100), (0, 101), (0, 102), (0, 103), (0, 104), (0, 105), (0, 106), (0, 107), (0, 108), (0, 109), (0, 110), (0, 111), (0, 112), (0, 113), (0, 114), (0, 115), (0, 116), (0, 117), (0, 118), (0, 119), (0, 120), (0, 121), (0, 122), (0, 123), (0, 124), (0, 125), (0, 126), (0, 127), (0, 128), (0, 129), (0, 130), (0, 131), (0, 132), (0, 133), (0, 134), (0, 135), (0, 136), (0, 137), (0, 138), (0, 139), (0, 140), (0, 141), (0, 142), (0, 143), (0, 144), (0, 145), (0, 146), (0, 147), (0, 148), (0, 149), (0, 150), (0, 151), (0, 152), (0, 153), (0, 154), (0, 155), (0, 156), (0, 157), (0, 158), (0, 159), (0, 160), (0, 161), (0, 162), (0, 163), (0, 164), (0, 165), (0, 166), (0, 167), (0, 168), (0, 169), (0, 170), (0, 171), (0, 172), (0, 173), (0, 174), (0, 175), (0, 176), (0, 177), (0, 178), (0, 179), (0, 180), (0, 181), (0, 182), (0, 183), (0, 184), (0, 185), (0, 186), (0, 187), (0, 188), (0, 189), (0, 190), (0, 191), (0, 192), (0, 193), (0, 194), (0, 195), (0, 196), (0, 197), (0, 198), (0, 199), (1, 199), (1, 198), (1, 197), (1, 196), (1, 195), (1, 194), (1, 193), (1, 192), (1, 191), (1, 190), (1, 189), (1, 188), (1, 187), (1, 186), (1, 185), (1, 184), (1, 183), (1, 182), (1, 181), (1, 180), (1, 179), (1, 178), (1, 177), (1, 176), (1, 175), (1, 174), (1, 173), (1, 172), (1, 171), (1, 170), (1, 169), (1, 168), (1, 167), (1, 166), (1, 165), (1, 164), (1, 163), (1, 162), (1, 161), (1, 160), (1, 159), (1, 158), (1, 157), (1, 156), (1, 155), (1, 154), (1, 153), (1, 152), (1, 151), (1, 150), (1, 149), (1, 148), (1, 147), (1, 146), (1, 145), (1, 144), (1, 143), (1, 142), (1, 141), (1, 140), (1, 139), (1, 138), (1, 137), (1, 136), (1, 135), (1, 134), (1, 133), (1, 132), (1, 131), (1, 130), (1, 129), (1, 128), (1, 127), (1, 126), (1, 125), (1, 124), (1, 123), (1, 122), (1, 121), (1, 120), (1, 119), (1, 118), (1, 117), (1, 116), (1, 115), (1, 114), (1, 113), (1, 112), (1, 111), (1, 110), (1, 109), (1, 108), (1, 107), (1, 106), (1, 105), (1, 104), (1, 103), (1, 102), (1, 101), (1, 100), (1, 99), (1, 98), (1, 97), (1, 96), (1, 95), (1, 94), (1, 93), (1, 92), (1, 91), (1, 90), (1, 89), (1, 88), (1, 87), (1, 86), (1, 85), (1, 84), (1, 83), (1, 82), (1, 81), (1, 80), (1, 79), (1, 78), (1, 77), (1, 76), (1, 75), (1, 74), (1, 73), (1, 72), (1, 71), (1, 70), (1, 69), (1, 68), (1, 67), (1, 66), (1, 65), (1, 64), (1, 63), (1, 62), (1, 61), (1, 60), (1, 59), (1, 58), (1, 57), (1, 56), (1, 55), (1, 54), (1, 53), (1, 52), (1, 51), (1, 50), (1, 49), (1, 48), (1, 47), (1, 46), (1, 45), (1, 44), (1, 43), (1, 42), (1, 41), (1, 40), (1, 39), (1, 38), (1, 37), (1, 36), (1, 35), (1, 34), (1, 33), (1, 32), (1, 31), (1, 30), (1, 29), (1, 28), (1, 27), (1, 26), (1, 25), (1, 24), (1, 23), (1, 22), (1, 21), (1, 20), (1, 19), (1, 18), (1, 17), (1, 16), (1, 15), (1, 14), (1, 13), (1, 12), (1, 11), (1, 10), (1, 9), (1, 8), (1, 7), (1, 6), (1, 5), (1, 4), (1, 3), (2, 3), (2, 4), (2, 5), (2, 6), (2, 7), (2, 8), (2, 9), (2, 10), (2, 11), (2, 12), (2, 13), (2, 14), (2, 15), (2, 16), (2, 17), (2, 18), (2, 19), (2, 20), (2, 21), (2, 22), (2, 23), (2, 24), (2, 25), (2, 26), (2, 27), (2, 28), (2, 29), (2, 30), (2, 31), (2, 32), (2, 33), (2, 34), (2, 35), (2, 36), (2, 37), (2, 38), (2, 39), (2, 40), (2, 41), (2, 42), (2, 43), (2, 44), (2, 45), (2, 46), (2, 47), (2, 48), (2, 49), (2, 50), (2, 51), (2, 52), (2, 53), (2, 54), (2, 55), (2, 56), (2, 57), (2, 58), (2, 59), (2, 60), (2, 61), (2, 62), (2, 63), (2, 64), (2, 65), (2, 66), (2, 67), (2, 68), (2, 69), (2, 70), (2, 71), (2, 72), (2, 73), (2, 74), (2, 75), (2, 76), (2, 77), (2, 78), (2, 79), (2, 80), (2, 81), (2, 82), (2, 83), (2, 84), (2, 85), (2, 86), (2, 87), (2, 88), (2, 89), (2, 90), (2, 91), (2, 92), (2, 93), (2, 94), (2, 95), (2, 96), (2, 97), (2, 98), (2, 99), (2, 100), (2, 101), (2, 102), (2, 103), (2, 104), (2, 105), (2, 106), (2, 107), (2, 108), (2, 109), (2, 110), (2, 111), (2, 112), (2, 113), (2, 114), (2, 115), (2, 116), (2, 117), (2, 118), (2, 119), (2, 120), (2, 121), (2, 122), (2, 123), (2, 124), (2, 125), (2, 126), (2, 127), (2, 128), (2, 129), (2, 130), (2, 131), (2, 132), (2, 133), (2, 134), (2, 135), (2, 136), (2, 137), (2, 138), (2, 139), (2, 140), (2, 141), (2, 142), (2, 143), (2, 144), (2, 145), (2, 146), (2, 147), (2, 148), (2, 149), (2, 150), (2, 151), (2, 152), (2, 153), (2, 154), (2, 155), (2, 156), (2, 157), (2, 158), (2, 159), (2, 160), (2, 161), (2, 162), (2, 163), (2, 164), (2, 165), (2, 166), (2, 167), (2, 168), (2, 169), (2, 170), (2, 171), (2, 172), (2, 173), (2, 174), (2, 175), (2, 176), (2, 177), (2, 178), (2, 179), (2, 180), (2, 181), (2, 182), (2, 183), (2, 184), (2, 185), (2, 186), (2, 187), (2, 188), (2, 189), (2, 190), (2, 191), (2, 192), (2, 193), (2, 194), (2, 195), (2, 196), (2, 197), (2, 198), (2, 199), (3, 199), (3, 198), (3, 197), (3, 196), (3, 195), (3, 194), (3, 193), (3, 192), (3, 191), (3, 190), (3, 189), (3, 188), (3, 187), (3, 186), (3, 185), (3, 184), (3, 183), (3, 182), (3, 181), (3, 180), (3, 179), (3, 178), (3, 177), (3, 176), (3, 175), (3, 174), (3, 173), (3, 172), (3, 171), (3, 170), (3, 169), (3, 168), (3, 167), (3, 166), (3, 165), (3, 164), (3, 163), (3, 162), (3, 161), (3, 160), (3, 159), (3, 158), (3, 157), (3, 156), (3, 155), (3, 154), (3, 153), (3, 152), (3, 151), (3, 150), (3, 149), (3, 148), (3, 147), (3, 146), (3, 145), (3, 144), (3, 143), (3, 142), (3, 141), (3, 140), (3, 139), (3, 138), (3, 137), (3, 136), (3, 135), (3, 134), (3, 133), (3, 132), (3, 131), (3, 130), (3, 129), (3, 128), (3, 127), (3, 126), (3, 125), (3, 124), (3, 123), (3, 122), (3, 121), (3, 120), (3, 119), (3, 118), (3, 117), (3, 116), (3, 115), (3, 114), (3, 113), (3, 112), (3, 111), (3, 110), (3, 109), (3, 108), (3, 107), (3, 106), (3, 105), (3, 104), (3, 103), (3, 102), (3, 101), (3, 100), (3, 99), (3, 98), (3, 97), (3, 96), (3, 95), (3, 94), (3, 93), (3, 92), (3, 91), (3, 90), (3, 89), (3, 88), (3, 87), (3, 86), (3, 85), (3, 84), (3, 83), (3, 82), (3, 81), (3, 80), (3, 79), (3, 78), (3, 77), (3, 76), (3, 75), (3, 74), (3, 73), (3, 72), (3, 71), (3, 70), (3, 69), (3, 68), (3, 67), (3, 66), (3, 65), (3, 64), (3, 63), (3, 62), (3, 61), (3, 60), (3, 59), (3, 58), (3, 57), (3, 56), (3, 55), (3, 54), (3, 53), (3, 52), (3, 51), (3, 50), (3, 49), (3, 48), (3, 47), (3, 46), (3, 45), (3, 44), (3, 43), (3, 42), (3, 41), (3, 40), (3, 39), (3, 38), (3, 37), (3, 36), (3, 35), (3, 34), (3, 33), (3, 32), (3, 31), (3, 30), (3, 29), (3, 28), (3, 27), (3, 26), (3, 25), (3, 24), (3, 23), (3, 22), (3, 21), (3, 20), (3, 19), (3, 18), (3, 17), (3, 16), (3, 15), (3, 14), (3, 13), (3, 12), (3, 11), (3, 10), (3, 9), (3, 8), (3, 7), (3, 6), (3, 5), (3, 4), (3, 3), (3, 2), (3, 1), (3, 0), (4, 0), (4, 1), (4, 2), (4, 3), (4, 4), (4, 5), (4, 6), (4, 7), (4, 8), (4, 9), (4, 10), (4, 11), (4, 12), (4, 13), (4, 14), (4, 15), (4, 16), (4, 17), (4, 18), (4, 19), (4, 20), (4, 21), (4, 22), (4, 23), (4, 24), (4, 25), (4, 26), (4, 27), (4, 28), (4, 29), (4, 30), (4, 31), (4, 32), (4, 33), (4, 34), (4, 35), (4, 36), (4, 37), (4, 38), (4, 39), (4, 40), (4, 41), (4, 42), (4, 43), (4, 44), (4, 45), (4, 46), (4, 47), (4, 48), (4, 49), (4, 50), (4, 51), (4, 52), (4, 53), (4, 54), (4, 55), (4, 56), (4, 57), (4, 58), (4, 59), (4, 60), (4, 61), (4, 62), (4, 63), (4, 64), (4, 65), (4, 66), (4, 67), (4, 68), (4, 69), (4, 70), (4, 71), (4, 72), (4, 73), (4, 74), (4, 75), (4, 76), (4, 77), (4, 78), (4, 79), (4, 80), (4, 81), (4, 82), (4, 83), (4, 84), (4, 85), (4, 86), (4, 87), (4, 88), (4, 89), (4, 90), (4, 91), (4, 92), (4, 93), (4, 94), (4, 95), (4, 96), (4, 97), (4, 98), (4, 99), (4, 100), (4, 101), (4, 102), (4, 103), (4, 104), (4, 105), (4, 106), (4, 107), (4, 108), (4, 109), (4, 110), (4, 111), (4, 112), (4, 113), (4, 114), (4, 115), (4, 116), (4, 117), (4, 118), (4, 119), (4, 120), (4, 121), (4, 122), (4, 123), (4, 124), (4, 125), (4, 126), (4, 127), (4, 128), (4, 129), (4, 130), (4, 131), (4, 132), (4, 133), (4, 134), (4, 135), (4, 136), (4, 137), (4, 138), (4, 139), (4, 140), (4, 141), (4, 142), (4, 143), (4, 144), (4, 145), (4, 146), (4, 147), (4, 148), (4, 149), (4, 150), (4, 151), (4, 152), (4, 153), (4, 154), (4, 155), (4, 156), (4, 157), (4, 158), (4, 159), (4, 160), (4, 161), (4, 162), (4, 163), (4, 164), (4, 165), (4, 166), (4, 167), (4, 168), (4, 169), (4, 170), (4, 171), (4, 172), (4, 173), (4, 174), (4, 175), (4, 176), (4, 177), (4, 178), (4, 179), (4, 180), (4, 181), (4, 182), (4, 183), (4, 184), (4, 185), (4, 186), (4, 187), (4, 188), (4, 189), (4, 190), (4, 191), (4, 192), (4, 193), (4, 194), (4, 195), (4, 196), (4, 197), (4, 198), (4, 199), (5, 199), (5, 198), (5, 197), (5, 196), (5, 195), (5, 194), (5, 193), (5, 192), (5, 191), (5, 190), (5, 189), (5, 188), (5, 187), (5, 186), (5, 185), (5, 184), (5, 183), (5, 182), (5, 181), (5, 180), (5, 179), (5, 178), (5, 177), (5, 176), (5, 175), (5, 174), (5, 173), (5, 172), (5, 171), (5, 170), (5, 169), (5, 168), (5, 167), (5, 166), (5, 165), (5, 164), (5, 163), (5, 162), (5, 161), (5, 160), (5, 159), (5, 158), (5, 157), (5, 156), (5, 155), (5, 154), (5, 153), (5, 152), (5, 151), (5, 150), (5, 149), (5, 148), (5, 147), (5, 146), (5, 145), (5, 144), (5, 143), (5, 142), (5, 141), (5, 140), (5, 139), (5, 138), (5, 137), (5, 136), (5, 135), (5, 134), (5, 133), (5, 132), (5, 131), (5, 130), (5, 129), (5, 128), (5, 127), (5, 126), (5, 125), (5, 124), (5, 123), (5, 122), (5, 121), (5, 120), (5, 119), (5, 118), (5, 117), (5, 116), (5, 115), (5, 114), (5, 113), (5, 112), (5, 111), (5, 110), (5, 109), (5, 108), (5, 107), (5, 106), (5, 105), (5, 104), (5, 103), (5, 102), (5, 101), (5, 100), (5, 99), (5, 98), (5, 97), (5, 96), (5, 95), (5, 94), (5, 93), (5, 92), (5, 91), (5, 90), (5, 89), (5, 88), (5, 87), (5, 86), (5, 85), (5, 84), (5, 83), (5, 82), (5, 81), (5, 80), (5, 79), (5, 78), (5, 77), (5, 76), (5, 75), (5, 74), (5, 73), (5, 72), (5, 71), (5, 70), (5, 69), (5, 68), (5, 67), (5, 66), (5, 65), (5, 64), (5, 63), (5, 62), (5, 61), (5, 60), (5, 59), (5, 58), (5, 57), (5, 56), (5, 55), (5, 54), (5, 53), (5, 52), (5, 51), (5, 50), (5, 49), (5, 48), (5, 47), (5, 46), (5, 45), (5, 44), (5, 43), (5, 42), (5, 41), (5, 40), (5, 39), (5, 38), (5, 37), (5, 36), (5, 35), (5, 34), (5, 33), (5, 32), (5, 31), (5, 30), (5, 29), (5, 28), (5, 27), (5, 26), (5, 25), (5, 24), (5, 23), (5, 22), (5, 21), (5, 20), (5, 19), (5, 18), (5, 17), (5, 16), (5, 15), (5, 14), (5, 13), (5, 12), (5, 11), (5, 10), (5, 9), (5, 8), (5, 7), (5, 6), (5, 5), (5, 4), (5, 3), (5, 2), (5, 1), (5, 0), (6, 0), (6, 1), (6, 2), (6, 3), (6, 4), (6, 5), (6, 6), (6, 7), (6, 8), (6, 9), (6, 10), (6, 11), (6, 12), (6, 13), (6, 14), (6, 15), (6, 16), (6, 17), (6, 18), (6, 19), (6, 20), (6, 21), (6, 22), (6, 23), (6, 24), (6, 25), (6, 26), (6, 27), (6, 28), (6, 29), (6, 30), (6, 31), (6, 32), (6, 33), (6, 34), (6, 35), (6, 36), (6, 37), (6, 38), (6, 39), (6, 40), (6, 41), (6, 42), (6, 43), (6, 44), (6, 45), (6, 46), (6, 47), (6, 48), (6, 49), (6, 50), (6, 51), (6, 52), (6, 53), (6, 54), (6, 55), (6, 56), (6, 57), (6, 58), (6, 59), (6, 60), (6, 61), (6, 62), (6, 63), (6, 64), (6, 65), (6, 66), (6, 67), (6, 68), (6, 69), (6, 70), (6, 71), (6, 72), (6, 73), (6, 74), (6, 75), (6, 76), (6, 77), (6, 78), (6, 79), (6, 80), (6, 81), (6, 82), (6, 83), (6, 84), (6, 85), (6, 86), (6, 87), (6, 88), (6, 89), (6, 90), (6, 91), (6, 92), (6, 93), (6, 94), (6, 95), (6, 96), (6, 97), (6, 98), (6, 99), (6, 100), (6, 101), (6, 102), (6, 103), (6, 104), (6, 105), (6, 106), (6, 107), (6, 108), (6, 109), (6, 110), (6, 111), (6, 112), (6, 113), (6, 114), (6, 115), (6, 116), (6, 117), (6, 118), (6, 119), (6, 120), (6, 121), (6, 122), (6, 123), (6, 124), (6, 125), (6, 126), (6, 127), (6, 128), (6, 129), (6, 130), (6, 131), (6, 132), (6, 133), (6, 134), (6, 135), (6, 136), (6, 137), (6, 138), (6, 139), (6, 140), (6, 141), (6, 142), (6, 143), (6, 144), (6, 145), (6, 146), (6, 147), (6, 148), (6, 149), (6, 150), (6, 151), (6, 152), (6, 153), (6, 154), (6, 155), (6, 156), (6, 157), (6, 158), (6, 159), (6, 160), (6, 161), (6, 162), (6, 163), (6, 164), (6, 165), (6, 166), (6, 167), (6, 168), (6, 169), (6, 170), (6, 171), (6, 172), (6, 173), (6, 174), (6, 175), (6, 176), (6, 177), (6, 178), (6, 179), (6, 180), (6, 181), (6, 182), (6, 183), (6, 184), (6, 185), (6, 186), (6, 187), (6, 188), (6, 189), (6, 190), (6, 191), (6, 192), (6, 193), (6, 194), (6, 195), (6, 196), (6, 197), (6, 198), (6, 199), (7, 199), (7, 198), (7, 197), (7, 196), (7, 195), (7, 194), (7, 193), (7, 192), (7, 191), (7, 190), (7, 189), (7, 188), (7, 187), (7, 186), (7, 185), (7, 184), (7, 183), (7, 182), (7, 181), (7, 180), (7, 179), (7, 178), (7, 177), (7, 176), (7, 175), (7, 174), (7, 173), (7, 172), (7, 171), (7, 170), (7, 169), (7, 168), (7, 167), (7, 166), (7, 165), (7, 164), (7, 163), (7, 162), (7, 161), (7, 160), (7, 159), (7, 158), (7, 157), (7, 156), (7, 155), (7, 154), (7, 153), (7, 152), (7, 151), (7, 150), (7, 149), (7, 148), (7, 147), (7, 146), (7, 145), (7, 144), (7, 143), (7, 142), (7, 141), (7, 140), (7, 139), (7, 138), (7, 137), (7, 136), (7, 135), (7, 134), (7, 133), (7, 132), (7, 131), (7, 130), (7, 129), (7, 128), (7, 127), (7, 126), (7, 125), (7, 124), (7, 123), (7, 122), (7, 121), (7, 120), (7, 119), (7, 118), (7, 117), (7, 116), (7, 115), (7, 114), (7, 113), (7, 112), (7, 111), (7, 110), (7, 109), (7, 108), (7, 107), (7, 106), (7, 105), (7, 104), (7, 103), (7, 102), (7, 101), (7, 100), (7, 99), (7, 98), (7, 97), (7, 96), (7, 95), (7, 94), (7, 93), (7, 92), (7, 91), (7, 90), (7, 89), (7, 88), (7, 87), (7, 86), (7, 85), (7, 84), (7, 83), (7, 82), (7, 81), (7, 80), (7, 79), (7, 78), (7, 77), (7, 76), (7, 75), (7, 74), (7, 73), (7, 72), (7, 71), (7, 70), (7, 69), (7, 68), (7, 67), (7, 66), (7, 65), (7, 64), (7, 63), (7, 62), (7, 61), (7, 60), (7, 59), (7, 58), (7, 57), (7, 56), (7, 55), (7, 54), (7, 53), (7, 52), (7, 51), (7, 50), (7, 49), (7, 48), (7, 47), (7, 46), (7, 45), (7, 44), (7, 43), (7, 42), (7, 41), (7, 40), (7, 39), (7, 38), (7, 37), (7, 36), (7, 35), (7, 34), (7, 33), (7, 32), (7, 31), (7, 30), (7, 29), (7, 28), (7, 27), (7, 26), (7, 25), (7, 24), (7, 23), (7, 22), (7, 21), (7, 20), (7, 19), (7, 18), (7, 17), (7, 16), (7, 15), (7, 14), (7, 13), (7, 12), (7, 11), (7, 10), (7, 9), (7, 8), (7, 7), (7, 6), (7, 5), (7, 4), (7, 3), (7, 2), (7, 1), (7, 0), (8, 0), (8, 1), (8, 2), (8, 3), (8, 4), (8, 5), (8, 6), (8, 7), (8, 8), (8, 9), (8, 10), (8, 11), (8, 12), (8, 13), (8, 14), (8, 15), (8, 16), (8, 17), (8, 18), (8, 19), (8, 20), (8, 21), (8, 22), (8, 23), (8, 24), (8, 25), (8, 26), (8, 27), (8, 28), (8, 29), (8, 30), (8, 31), (8, 32), (8, 33), (8, 34), (8, 35), (8, 36), (8, 37), (8, 38), (8, 39), (8, 40), (8, 41), (8, 42), (8, 43), (8, 44), (8, 45), (8, 46), (8, 47), (8, 48), (8, 49), (8, 50), (8, 51), (8, 52), (8, 53), (8, 54), (8, 55), (8, 56), (8, 57), (8, 58), (8, 59), (8, 60), (8, 61), (8, 62), (8, 63), (8, 64), (8, 65), (8, 66), (8, 67), (8, 68), (8, 69), (8, 70), (8, 71), (8, 72), (8, 73), (8, 74), (8, 75), (8, 76), (8, 77), (8, 78), (8, 79), (8, 80), (8, 81), (8, 82), (8, 83), (8, 84), (8, 85), (8, 86), (8, 87), (8, 88), (8, 89), (8, 90), (8, 91), (8, 92), (8, 93), (8, 94), (8, 95), (8, 96), (8, 97), (8, 98), (8, 99), (8, 100), (8, 101), (8, 102), (8, 103), (8, 104), (8, 105), (8, 106), (8, 107), (8, 108), (8, 109), (8, 110), (8, 111), (8, 112), (8, 113), (8, 114), (8, 115), (8, 116), (8, 117), (8, 118), (8, 119), (8, 120), (8, 121), (8, 122), (8, 123), (8, 124), (8, 125), (8, 126), (8, 127), (8, 128), (8, 129), (8, 130), (8, 131), (8, 132), (8, 133), (8, 134), (8, 135), (8, 136), (8, 137), (8, 138), (8, 139), (8, 140), (8, 141), (8, 142), (8, 143), (8, 144), (8, 145), (8, 146), (8, 147), (8, 148), (8, 149), (8, 150), (8, 151), (8, 152), (8, 153), (8, 154), (8, 155), (8, 156), (8, 157), (8, 158), (8, 159), (8, 160), (8, 161), (8, 162), (8, 163), (8, 164), (8, 165), (8, 166), (8, 167), (8, 168), (8, 169), (8, 170), (8, 171), (8, 172), (8, 173), (8, 174), (8, 175), (8, 176), (8, 177), (8, 178), (8, 179), (8, 180), (8, 181), (8, 182), (8, 183), (8, 184), (8, 185), (8, 186), (8, 187), (8, 188), (8, 189), (8, 190), (8, 191), (8, 192), (8, 193), (8, 194), (8, 195), (8, 196), (8, 197), (8, 198), (8, 199), (9, 199), (9, 198), (9, 197), (9, 196), (9, 195), (9, 194), (9, 193), (9, 192), (9, 191), (9, 190), (9, 189), (9, 188), (9, 187), (9, 186), (9, 185), (9, 184), (9, 183), (9, 182), (9, 181), (9, 180), (9, 179), (9, 178), (9, 177), (9, 176), (9, 175), (9, 174), (9, 173), (9, 172), (9, 171), (9, 170), (9, 169), (9, 168), (9, 167), (9, 166), (9, 165), (9, 164), (9, 163), (9, 162), (9, 161), (9, 160), (9, 159), (9, 158), (9, 157), (9, 156), (9, 155), (9, 154), (9, 153), (9, 152), (9, 151), (9, 150), (9, 149), (9, 148), (9, 147), (9, 146), (9, 145), (9, 144), (9, 143), (9, 142), (9, 141), (9, 140), (9, 139), (9, 138), (9, 137), (9, 136), (9, 135), (9, 134), (9, 133), (9, 132), (9, 131), (9, 130), (9, 129), (9, 128), (9, 127), (9, 126), (9, 125), (9, 124), (9, 123), (9, 122), (9, 121), (9, 120), (9, 119), (9, 118), (9, 117), (9, 116), (9, 115), (9, 114), (9, 113), (9, 112), (9, 111), (9, 110), (9, 109), (9, 108), (9, 107), (9, 106), (9, 105), (9, 104), (9, 103), (9, 102), (9, 101), (9, 100), (9, 99), (9, 98), (9, 97), (9, 96), (9, 95), (9, 94), (9, 93), (9, 92), (9, 91), (9, 90), (9, 89), (9, 88), (9, 87), (9, 86), (9, 85), (9, 84), (9, 83), (9, 82), (9, 81), (9, 80), (9, 79), (9, 78), (9, 77), (9, 76), (9, 75), (9, 74), (9, 73), (9, 72), (9, 71), (9, 70), (9, 69), (9, 68), (9, 67), (9, 66), (9, 65), (9, 64), (9, 63), (9, 62), (9, 61), (9, 60), (9, 59), (9, 58), (9, 57), (9, 56), (9, 55), (9, 54), (9, 53), (9, 52), (9, 51), (9, 50), (9, 49), (9, 48), (9, 47), (9, 46), (9, 45), (9, 44), (9, 43), (9, 42), (9, 41), (9, 40), (9, 39), (9, 38), (9, 37), (9, 36), (9, 35), (9, 34), (9, 33), (9, 32), (9, 31), (9, 30), (9, 29), (9, 28), (9, 27), (9, 26), (9, 25), (9, 24), (9, 23), (9, 22), (9, 21), (9, 20), (9, 19), (9, 18), (9, 17), (9, 16), (9, 15), (9, 14), (9, 13), (9, 12), (9, 11), (9, 10), (10, 10)]\n",
      "cost of the solution: 1991\n",
      "number of expanded nodes: 1991\n",
      "actual running time of the program: 0.5633370876312256\n"
     ]
    }
   ],
   "source": [
    "from queue import PriorityQueue\n",
    "from collections import defaultdict \n",
    "import time\n",
    "\n",
    "start = time.time()\n",
    "expandedNode = []\n",
    "\n",
    "\n",
    "def dfs(graph, startNode, goalNode):\n",
    "    path = [startNode]\n",
    "    visited = []\n",
    "    fringe = PriorityQueue()\n",
    "    fringe.put((0, startNode, path, visited))\n",
    "\n",
    "    while fringe:\n",
    "        depth, currentNode, path, visited = fringe.get()\n",
    "        \n",
    "        expandedNode.append(currentNode)\n",
    "\n",
    "        if currentNode == goalNode: \n",
    "            return path + [currentNode]\n",
    "          \n",
    "        if currentNode not in visited:\n",
    "          visited = visited + [currentNode]\n",
    "\n",
    "        for node in graph[currentNode]: #look at the children\n",
    "            if node not in visited:\n",
    "                if node == goalNode:\n",
    "                    expandedNode.append(node)\n",
    "                    return path + [node]               \n",
    "                fringe.put((-len(path), node, path + [node], visited + [node]))\n",
    "    return path \n",
    "\n",
    "print(\"starting point:\", startNode)\n",
    "print(\"goal point:\", goalNode)\n",
    "path= dfs(graph, startNode, goalNode)\n",
    "print(\"solution path:\", path) \n",
    "print(\"cost of the solution:\", len(path))\n",
    "print(\"number of expanded nodes:\",len(expandedNode))\n",
    "end = time.time()\n",
    "print(\"actual running time of the program:\", end - start)\n"
   ]
  },
  {
   "cell_type": "markdown",
   "metadata": {},
   "source": [
    "**Seeing the solution path visually we have**\n",
    "\n",
    "note to Lois and Ri! insert below the plot of solution path and the state space\n",
    "\n",
    "From sir carlo: Describe and show the diagram/picture of the input files that you have created and the solution path generated"
   ]
  },
  {
   "cell_type": "code",
   "execution_count": null,
   "metadata": {},
   "outputs": [],
   "source": [
    "#just edit this to show the path in the grid \n",
    "gridResultDFS = grid #Be sure to do this! We still want to reuse the statespace in the next algos\n",
    "for (i,j) in path:\n",
    "    gridResultDFS[i][j]= '*'\n",
    "print(grid) #change this to plot!!!"
   ]
  },
  {
   "cell_type": "markdown",
   "metadata": {},
   "source": [
    "### III. A* Implementation  \n",
    "\n",
    "Given the starting and goal point, we are tasked to know the shortest solution path between those two points using the A* Algorithm. \n",
    "\n",
    "It is solved by the ff:\n",
    "\n",
    "**Heuristic Function**\n",
    "\n",
    "**Data Structures**\n",
    "We use two data structures:\n",
    "   \n",
    "   (1) \n",
    "   \n",
    "   (2) \n",
    "\n",
    "   (3) \n",
    "   \n",
    "**We proceed to the process:**\n",
    "\n",
    "1.\n",
    "\n",
    "2.\n",
    "   \n",
    "3.\n",
    "   \n",
    "4.\n",
    "  \n",
    "5.\n",
    "\n",
    "6.\n",
    "\n",
    "7.\n",
    "\n",
    "\n",
    "We implement this solution in the code below:"
   ]
  },
  {
   "cell_type": "code",
   "execution_count": null,
   "metadata": {},
   "outputs": [],
   "source": [
    "insert code here for A*"
   ]
  },
  {
   "cell_type": "markdown",
   "metadata": {},
   "source": [
    "**Seeing the solution path visually we have**\n",
    "\n",
    "note to Lois and Ri! insert below the plot of solution path and the state space\n",
    "\n",
    "From sir carlo: Describe and show the diagram/picture of the input files that you have created and the solution path generated"
   ]
  },
  {
   "cell_type": "code",
   "execution_count": null,
   "metadata": {},
   "outputs": [],
   "source": [
    "#just edit this to show the path in the grid \n",
    "gridResultAstar = grid #Be sure to do this! We still want to reuse the statespace in the next algos\n",
    "for (i,j) in path:\n",
    "    gridResultAstar[i][j]= '*'\n",
    "print(grid) #change this to plot!!!"
   ]
  },
  {
   "cell_type": "markdown",
   "metadata": {},
   "source": [
    "## Analysis: \n",
    "\n",
    "Note to Lois and Ri from sir carlo!\n",
    "\n",
    "An analysis and comparison of the different search methods based on relevant criteria, along with appropriate conclusions\n",
    "\n",
    "#### Breadth-First Search Implementation\n",
    "\n"
   ]
  },
  {
   "cell_type": "markdown",
   "metadata": {},
   "source": [
    "##### References:\n",
    "\n",
    "https://codereview.stackexchange.com/questions/135156/bfs-implementation-in-python-3 \n",
    "\n",
    "https://dbader.org/blog/priority-queues-in-python\n",
    "\n",
    "https://medium.com/@lennyboyatzis/ai-teaching-pacman-to-search-with-depth-first-search-ee57daf889ab"
   ]
  },
  {
   "cell_type": "code",
   "execution_count": null,
   "metadata": {},
   "outputs": [],
   "source": []
  }
 ],
 "metadata": {
  "kernelspec": {
   "display_name": "Python 3",
   "language": "python",
   "name": "python3"
  },
  "language_info": {
   "codemirror_mode": {
    "name": "ipython",
    "version": 3
   },
   "file_extension": ".py",
   "mimetype": "text/x-python",
   "name": "python",
   "nbconvert_exporter": "python",
   "pygments_lexer": "ipython3",
   "version": "3.6.7"
  }
 },
 "nbformat": 4,
 "nbformat_minor": 2
}
