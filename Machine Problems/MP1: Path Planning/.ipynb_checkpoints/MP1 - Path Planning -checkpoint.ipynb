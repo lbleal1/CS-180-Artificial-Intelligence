{
 "cells": [
  {
   "cell_type": "markdown",
   "metadata": {},
   "source": [
    "# Machine Problem  1 - Path Planning\n",
    " **Cruz, Rianna**   \n",
    " **Leal, Lois Anne**"
   ]
  },
  {
   "cell_type": "markdown",
   "metadata": {},
   "source": [
    "## Problem Description: \n",
    "Consider the problem of finding the shortest path between two points on a plane that has polygonal obstacles. This is an idealization of the problem a robot has to solve to navigate it way around a crowded environment."
   ]
  },
  {
   "cell_type": "markdown",
   "metadata": {},
   "source": [
    "## Solution Proper:\n",
    "\n",
    "We provide the solution such that we first discuss how we set up the state space--from our input files to the graph dictionary that we will be using in our search algorithms. We then discuss each algorithms using our first test cases. We compress our code for each major steps into functions to provide readability, since we will be using them in other test cases. So at the end of the discussion of each algorithm, we run the five test cases--the first one included--so as to show and provided understanding to each test case.\n",
    "\n",
    "At the end, after we have discussed all the algorithms and run each five test cases for each algorithm, we analyze and compare each algorithm. The five test cases are actually created with the mind to benefit the analysis and comparison of the algorithms--showing their strengths and weaknesses in the selected criteria."
   ]
  },
  {
   "cell_type": "markdown",
   "metadata": {},
   "source": [
    "### 1. Setting Up the State Space "
   ]
  },
  {
   "cell_type": "markdown",
   "metadata": {},
   "source": [
    "  #### A. As Grid"
   ]
  },
  {
   "cell_type": "markdown",
   "metadata": {},
   "source": [
    "In setting up the state space, our main function is the createStateSpaceGrid which outputs the startNode, goalNode and the grid we will be using in our next step. The format of the call function is as shown below:\n",
    "\n",
    "      startNode, goalNode, grid, shapes = createStateSpaceGrid(fileName,imgName)\n",
    "\n",
    "The idea of createStateSpace is further divided into three major group of steps. The first one is to read the .txt file using the *read_input* function. To express the obstacles into an accessible 100 x 200 grid, we defined two functions such as *plot_polygon* and *plot_point* so as to first plot them and save the result as a .png image. We want the image to be in grayscale so as to refer to 0s as points not in the polygon obstacle(s) and to refer to 1s as points in the polygon obstacle(s). Lastly, out of the image, we create the accessible grid. \n",
    "\n",
    "*Note:* Together with the functions stated above, we also used some python libraries such as matplotlib, numpy and cv2."
   ]
  },
  {
   "cell_type": "code",
   "execution_count": 1,
   "metadata": {
    "collapsed": true
   },
   "outputs": [],
   "source": [
    "import re\n",
    "\n",
    "def read_input(filename):\n",
    "    file = open (filename, 'r+', encoding='utf-8')\n",
    "    point = r'([\\d]+,[\\d]+)'\n",
    "\n",
    "    start = tuple(map(int, re.search(point, file.readline())[0].split(',')))\n",
    "    goal  = tuple(map(int, re.search(point, file.readline())[0].split(',')))\n",
    "\n",
    "    shapes = []\n",
    "    for line in file:\n",
    "        shape = []\n",
    "        for point_i in re.findall(point, line):\n",
    "            point_int = map(int, point_i.split(','))\n",
    "            shape.append(list(point_int))\n",
    "        shapes.append(shape)\n",
    "\n",
    "    file.close()\n",
    "    return start, goal, shapes"
   ]
  },
  {
   "cell_type": "code",
   "execution_count": 2,
   "metadata": {
    "collapsed": true
   },
   "outputs": [],
   "source": [
    "import matplotlib.pyplot as plt\n",
    "\n",
    "def plot_polygon(coord):\n",
    "    coord.append(coord[0]) # repeat the first point to create a 'closed loop'\n",
    "    xs, ys = zip(*coord)   # create lists of x and y values\n",
    "    plt.plot(ys,xs, linewidth=5) \n",
    "\n",
    "def plot_point(pt):\n",
    "    plt.scatter(pt[1], pt[0], 20)"
   ]
  },
  {
   "cell_type": "code",
   "execution_count": 3,
   "metadata": {
    "collapsed": true
   },
   "outputs": [],
   "source": [
    "import matplotlib.pyplot as plt\n",
    "import numpy as np\n",
    "import cv2\n",
    "\n",
    "def createStateSpaceGrid(fileName, imgName):\n",
    "    # read .txt file\n",
    "    startNode, goalNode, shapes = read_input(fileName) \n",
    "\n",
    "    # plot the figure\n",
    "    plt.figure() \n",
    "    plt.xlim(0, 200)\n",
    "    plt.ylim(0, 100)\n",
    "    plt.gca().invert_yaxis()\n",
    "\n",
    "    for shape in shapes:\n",
    "        plot_polygon(shape) \n",
    "\n",
    "    # plot starting and goal points\n",
    "    #plot_point(startNode) \n",
    "    #plot_point(goalNode)\n",
    "\n",
    "    # save the figure as .png image file\n",
    "    plt.axis('off')\n",
    "    plt.tick_params(axis='both', left=False, top=False, right=False, bottom=False, labelleft=False, labeltop=False,\n",
    "                        labelright=False, labelbottom=False)\n",
    "    # plt.savefig('maze.png', bbox_inches='tight', transparent=True, pad_inches=0)\n",
    "    plt.savefig(imgName, bbox_inches='tight', transparent=True, pad_inches=0)\n",
    "    plt.clf() \n",
    "    \n",
    "    # read the image file and resize to original scale\n",
    "    img = cv2.imread(imgName, cv2.IMREAD_GRAYSCALE)\n",
    "    light = cv2.resize(img, (200, 100))\n",
    "    \n",
    "    # ensure borderless processing\n",
    "    plt.axis('off')\n",
    "    plt.tick_params(axis='both', left=False, top=False, right=False, bottom=False, labelleft=False, labeltop=False,\n",
    "                            labelright=False, labelbottom=False)\n",
    "    plt.tight_layout(pad=0)\n",
    "    \n",
    "    # convert to grayscale for later for\n",
    "    # 0s to mean not a point in the polygon obstacle\n",
    "    # 1s to mean a point in the polygon obstacle\n",
    "    imgplot = plt.imshow(img, cmap='Greys_r')\n",
    "\n",
    "    plt.show()\n",
    "\n",
    "    # initialize the grid\n",
    "    grid = np.zeros((100, 200))\n",
    "\n",
    "    # express the sides of the polygon obstacle(s) as 1s \n",
    "    # in the grid\n",
    "    for row, row_points in enumerate(light):\n",
    "        for col, col_val in enumerate(row_points):\n",
    "            if col_val < 255:\n",
    "                grid[row][col] = 1\n",
    "\n",
    "    grid = grid.tolist()\n",
    "    \n",
    "    return startNode, goalNode, grid, shapes"
   ]
  },
  {
   "cell_type": "code",
   "execution_count": 4,
   "metadata": {},
   "outputs": [
    {
     "data": {
      "image/png": "[encoded data removed]",
      "text/plain": [
       "<Figure size 432x288 with 1 Axes>"
      ]
     },
     "metadata": {},
     "output_type": "display_data"
    }
   ],
   "source": [
    "startNode, goalNode, grid, shapes = createStateSpaceGrid('in2.txt','maze2.png')"
   ]
  },
  {
   "cell_type": "markdown",
   "metadata": {},
   "source": [
    "  #### B. Converting the Grid Representation to a Graph Dictionary"
   ]
  },
  {
   "cell_type": "markdown",
   "metadata": {},
   "source": [
    "After getting the accessible grid, we convert it further to a graph dictionary. The rationale behind choosing graph dictionary is that, we can manipulate them easier and they also simulate the behavior of trees per se. \n",
    "\n",
    "Our main function here is:\n",
    "\n",
    "                               graph = createGraph(grid) \n",
    "\n",
    "The graph dictionary has the following structure:\n",
    "\n",
    "                  (parent tuple): [(child1 tuple), (child2 tuple), ...]\n",
    "                         \n",
    "Intuitively, explaining the structure, we use tuples to represent the nodes of our graph such that for each cell in the grid, we see them as nodes in the graph. Furthermore, the format above explains that for each node in the grid and *not in a polygon obstacle*, we consider as a parent node and its children, *also not in a polygon obstacle*, as the possible moves which are left, right, top and bottom. "
   ]
  },
  {
   "cell_type": "code",
   "execution_count": 5,
   "metadata": {
    "collapsed": true
   },
   "outputs": [],
   "source": [
    "from collections import defaultdict \n",
    "\n",
    "def addEdge(graph,u,v): \n",
    "    graph[u].append(v)\n",
    "\n",
    "\n",
    "def createGraph(grid):\n",
    "    #get the size of the grid\n",
    "    rows = len(grid) \n",
    "    cols = len(grid[0])\n",
    "\n",
    "    graph = defaultdict(list) \n",
    "    \n",
    "    for row in range(rows):\n",
    "        for col in range(cols):\n",
    "            # move only when there's a space to move in the direction\n",
    "            # and the considered point is not a point in the obstacle\n",
    "        \n",
    "            if col != 0 and grid[row][col]!=1 and grid[row][col-1]!=1:\n",
    "                addEdge(graph,(row,col),(row,col-1)) #left\n",
    "                \n",
    "            if col < cols-1 and grid[row][col]!=1 and grid[row][col+1]!=1:\n",
    "                addEdge(graph,(row,col),(row,col+1)) #right\n",
    "                \n",
    "            if row != 0 and grid[row][col]!=1 and grid[row-1][col]!=1:\n",
    "                addEdge(graph,(row,col),(row-1,col)) #top\n",
    "                \n",
    "            if row < rows-1 and grid[row][col]!=1 and grid[row+1][col]!=1:\n",
    "                addEdge(graph,(row,col),(row+1,col)) #bottom\n",
    "    \n",
    "    return graph"
   ]
  },
  {
   "cell_type": "code",
   "execution_count": 6,
   "metadata": {
    "collapsed": true
   },
   "outputs": [],
   "source": [
    "graph = createGraph(grid) "
   ]
  },
  {
   "cell_type": "code",
   "execution_count": 7,
   "metadata": {
    "collapsed": true
   },
   "outputs": [],
   "source": [
    "# uncomment to print the graph dictionary \n",
    "# for k,v in graph.items():\n",
    "#    print(k,':',v)"
   ]
  },
  {
   "cell_type": "markdown",
   "metadata": {},
   "source": [
    "### 2. Search Algorithms\n",
    "\n",
    "Now that our state space is set, we proceed to our Search Algorithms which will be explained in the following order: Breadth-First Search(BFS), Depth-First Search(DFS) and A* Search. \n",
    "\n",
    "For each search algorithm, we give the state again the problem definition. We then show the data structures that will be used and tell its process. Also, in some of the algorithms we included remarks such as word of cautions and some notes. \n",
    "\n",
    "Each algorithm is implemented as a function such that each has a calling function of the format:\n",
    "\n",
    "                  <name>SolPath = <name>Algo(graph, startNode, goalNode)\n",
    "                           \n",
    "where *name* can be 'bfs','dfs', or 'Astar'. This function prints the starting point, goal point, solution path, cost of solution, number of expanded nodes, and actual running time of the program. Note, however, that in BFS and DFS, each step is 1. Thus, the cost of the solution path is the length of the solution path. \n",
    "\n",
    "After the function(s) related to the main algorithm were processed, we visualize what happened by plotting again the state space, but now together with the solution path. We do this to all five test cases."
   ]
  },
  {
   "cell_type": "markdown",
   "metadata": {},
   "source": [
    "   #### A. Breadth-First Search(BFS) Implementation  \n",
    "\n",
    "**Problem Definition:**\n",
    "\n",
    "Given the starting and goal point, we are tasked to know the shortest solution path between those two points using the Breadth First Search Algorithm. \n",
    "\n",
    "\n",
    "**Data Structures:**\n",
    "\n",
    "We use two data structures:\n",
    "   \n",
    "   (1) *parent* is a dictionary to know the parent of the given node.\n",
    "   \n",
    "   (2) *fringe* is a queue.\n",
    "\n",
    "\n",
    "**We proceed to the process:**\n",
    "\n",
    "1.we append the starting node to the fringe\n",
    "\n",
    "2.we explore while the fringe still has nodes\n",
    "   \n",
    "3.so we pop the first element of the fringe\n",
    "   \n",
    "4.put this to the expanded node\n",
    "*Note:* we enable duplicates with the nodes such that an explored node may still be considered\n",
    "  \n",
    "5.We check if the node that is expanded is the goal. We stop if it is and if not, we continue\n",
    "   \n",
    "6.Since it's not the goal node, we look to its children\n",
    "that is if the node is not in the fringe, we append it\n",
    "to the fringe. \n",
    "\n",
    "\n",
    "**Caution! The Nature of Starting and Goal Point**\n",
    "\n",
    "However, we need to consider the nature of starting and goal point in telling who's the parent and who's the child for backtracking purposes later to get the solution path if we reached the goal. \n",
    "     \n",
    "So if the start point is found above or in the same row as the goal point, we will only assign the parent-child relationship such that only those who are in the higher rows or\n",
    "in the same row can parent but not those who are below them can parent the ones above. \n",
    "\n",
    "On the other hand, if the start point is found below or in the same row as the goal point,\n",
    "we will only assign the parent-child relationship such that only those who are in the lower rows or in the same row can parent but not those who are above them can parent the ones below. \n",
    "\n",
    "***Why?***\n",
    "\n",
    "Since we are considering graphs, it is possible to have cycles. If we do not include those conditions, there will come a time that the above node can parent the below and the below can parent the above, thus if we backtrack say (3,0) is the parent of (4,0), then it would ask, who is the parent of (3,0) then we will find that it is (4,0) and it will just loop forever--which we do not want to happen.\n",
    "\n",
    "We implement this solution in the code below:"
   ]
  },
  {
   "cell_type": "code",
   "execution_count": 8,
   "metadata": {
    "collapsed": true
   },
   "outputs": [],
   "source": [
    "import time\n",
    "\n",
    "def backtrace(parent, start, end):\n",
    "    path = [end]\n",
    "    while path[-1] != start:\n",
    "        add = parent[path[-1]]\n",
    "        path.append(add)\n",
    "    path.reverse()\n",
    "    return path\n",
    "      \n",
    "def bfs(expandedNode, graph, start, goal):\n",
    "    parent = {} \n",
    "    fringe = [] \n",
    "    fringe.append(start) #append starting node\n",
    "    \n",
    "    while fringe: #explore til the fringe is not empty!\n",
    "        node = fringe.pop(0) #get vertex\n",
    "        expandedNode.append(node) #append the considered vertex to the Expanded Nodes\n",
    "        if node == goal: #if reaches goal node\n",
    "            return backtrace(parent, start, goal),expandedNode\n",
    "        for adjacent in graph.get(node, []): #consider the children of the popped node \n",
    "            if node not in fringe:     \n",
    "                if start[0]<=goal[0]:\n",
    "                  if adjacent[0] >= node[0]:\n",
    "                    parent[adjacent] = node  \n",
    "                if start[0]>=goal[0]:\n",
    "                    if adjacent[0] <= node[0]:\n",
    "                      parent[adjacent] = node  \n",
    "                fringe.append(adjacent) \n",
    "\n",
    "def bfsAlgo(graph, startNode, goalNode):\n",
    "    expandedNode = []\n",
    "    print(\"starting point:\", startNode)\n",
    "    print(\"goal point:\", goalNode)\n",
    "    start = time.time()\n",
    "    path, expandedNode=bfs(expandedNode,graph, startNode, goalNode)\n",
    "    end = time.time()\n",
    "    print(\"solution Path:\",path)\n",
    "    print(\"cost of the solution:\", len(path))\n",
    "    print(\"number of expanded nodes:\",len(expandedNode))\n",
    "    print(\"actual running time of the program:\", end - start)\n",
    "    return path"
   ]
  },
  {
   "cell_type": "markdown",
   "metadata": {},
   "source": [
    "**Visualize Results**\n",
    "\n",
    "We use the function *finalPlot* below to plot our state space together with the solution path. The format of the function call is:\n",
    "\n",
    "      finalPlot(<name>SolPath, startNode, goalNode, shapes, '<name>Test<Number>.png')\n",
    "\n",
    "where *name* can be 'bfs','dfs' or 'A*' and *Number* is just to specify which test case.\n",
    "\n",
    "The *finalPlot* takes in the solution path of the search algorithm, the starting point, goal point, shapes and the image name. The shapes are used to draw the polygon obstacles just as like before. The solution path, starting point and goal point are the ones added to the state space. Lasly, the image name is used to save the final plot. \n",
    "\n",
    "*Note:* This function will also be called in visualizing results for DFS and A*.\n",
    "\n"
   ]
  },
  {
   "cell_type": "code",
   "execution_count": 9,
   "metadata": {
    "collapsed": true
   },
   "outputs": [],
   "source": [
    "def finalPlot(solPath, startNode, goalNode, shapes, imgName):\n",
    "    # plot the figure\n",
    "    plt.figure() \n",
    "    plt.gca().invert_yaxis()\n",
    "    \n",
    "    #plot obstacles    \n",
    "    for shape in shapes:\n",
    "        plot_polygon(shape)\n",
    "\n",
    "    #plot the solution path\n",
    "    for point in solPath:\n",
    "        plot_point(point)\n",
    "        \n",
    "    # plot starting and goal points\n",
    "    plot_point(startNode) \n",
    "    plot_point(goalNode)\n",
    "\n",
    "    plt.savefig(imgName)\n",
    "    plt.show()"
   ]
  },
  {
   "cell_type": "markdown",
   "metadata": {},
   "source": [
    "#### Five Test Cases ran on BFS\n",
    "\n",
    "Each test case is designed to show the weaknesses and strengths of the search algorithms for later usage in Analysis. \n",
    "The following test cases are performed with BFS:"
   ]
  },
  {
   "cell_type": "code",
   "execution_count": 10,
   "metadata": {},
   "outputs": [
    {
     "data": {
      "image/png": "[encoded data removed]",
      "text/plain": [
       "<Figure size 432x288 with 1 Axes>"
      ]
     },
     "metadata": {},
     "output_type": "display_data"
    },
    {
     "name": "stdout",
     "output_type": "stream",
     "text": [
      "starting point: (0, 0)\n",
      "goal point: (10, 0)\n",
      "solution Path: [(0, 0), (1, 0), (2, 0), (3, 0), (4, 0), (5, 0), (6, 0), (7, 0), (8, 0), (9, 0), (10, 0)]\n",
      "cost of the solution: 11\n",
      "number of expanded nodes: 441\n",
      "actual running time of the program: 0.004003763198852539\n"
     ]
    },
    {
     "data": {
      "image/png": "[encoded data removed]",
      "text/plain": [
       "<Figure size 432x288 with 1 Axes>"
      ]
     },
     "metadata": {},
     "output_type": "display_data"
    }
   ],
   "source": [
    "#Test Case No. 1: \n",
    "startNode, goalNode, grid, shapes = createStateSpaceGrid('in1.txt','maze1.png')\n",
    "graph = createGraph(grid)  #create the graph dictionary\n",
    "bfsSolPath = bfsAlgo(graph, startNode, goalNode)\n",
    "finalPlot(bfsSolPath, startNode, goalNode, shapes, 'bfsTestOne.png')\n"
   ]
  },
  {
   "cell_type": "markdown",
   "metadata": {},
   "source": [
    "**Result Description:**\n",
    "\n",
    "With 11 nodes included in the solution, as seen above, the solution generated is just a vertical line even though expanding 441 nodes in ~0.0021 seconds. "
   ]
  },
  {
   "cell_type": "code",
   "execution_count": null,
   "metadata": {
    "scrolled": true
   },
   "outputs": [],
   "source": [
    "#Test Case No. 2:\n",
    "startNode, goalNode, grid, shapes = createStateSpaceGrid('in2.txt','maze2.png')\n",
    "graph = createGraph(grid)  #create the graph dictionary\n",
    "bfsSolPath = bfsAlgo(graph, startNode, goalNode)\n",
    "finalPlot(bfsSolPath, startNode, goalNode, shapes, 'bfsTestTwo.png')"
   ]
  },
  {
   "cell_type": "markdown",
   "metadata": {},
   "source": [
    "**Result Description:**\n",
    "\n",
    "With 66 nodes out of the 60607 expanded nodes, the behavior of the solution path looks like it's moving vertical until it reached the same y-coordinate as the goal point and it moved horizontal to the right until it reached the same x-coordinate of the goal goal point. The time is about 3.311 seconds."
   ]
  },
  {
   "cell_type": "code",
   "execution_count": null,
   "metadata": {},
   "outputs": [],
   "source": [
    "#Test Case No. 3:\n",
    "startNode, goalNode, grid, shapes  = createStateSpaceGrid('in3.txt','maze3.png')\n",
    "graph = createGraph(grid)  #create the graph dictionary\n",
    "bfsSolPath = bfsAlgo(graph, startNode, goalNode)\n",
    "finalPlot(bfsSolPath, startNode, goalNode, shapes, 'bfsTestThree.png')"
   ]
  },
  {
   "cell_type": "markdown",
   "metadata": {},
   "source": [
    "**Result Description:**\n",
    "\n",
    "With 153 nodes in the solution path out of the 635672 expanded nodes, the behavior looked like before; however, this time the goal point has the same y-coordinate with that of the obstacle, as we can see it moved down and then right since it met an obstaccle then it changes it y's corrdinate seeing there is no obstacle in the path and while also incrementing its x-coordinates until it reached the goal point. This is the longest time so far having ~265.69 seconds.\n"
   ]
  },
  {
   "cell_type": "code",
   "execution_count": null,
   "metadata": {
    "collapsed": true
   },
   "outputs": [],
   "source": [
    "#Test Case No. 4:\n",
    "startNode, goalNode, grid, shapes  = createStateSpaceGrid('in4.txt','maze4.png')\n",
    "graph = createGraph(grid)  #create the graph dictionary\n",
    "bfsSolPath = bfsAlgo(graph, startNode, goalNode)\n",
    "finalPlot(bfsSolPath, startNode, goalNode, shapes, 'bfsTestFour.png')"
   ]
  },
  {
   "cell_type": "markdown",
   "metadata": {},
   "source": [
    "**Result Description:**\n",
    "\n",
    "With 150 nodes in the solution path out of the 550560 nodes, the behavior is much like the second one despite the environment that has multiple small obstacles. It changes its y-coordinate until meeting the y-coordinate of the goal point and moves to the right until meeting the x-coordinate of the goal point since there's no obstacle as we can see. It used up ~127.5943 seconds"
   ]
  },
  {
   "cell_type": "code",
   "execution_count": null,
   "metadata": {},
   "outputs": [],
   "source": [
    "#Test Case No. 5:\n",
    "startNode, goalNode, grid, shapes  = createStateSpaceGrid('in5.txt','maze5.png')\n",
    "graph = createGraph(grid)  #create the graph dictionary\n",
    "bfsSolPath = bfsAlgo(graph, startNode, goalNode)\n",
    "finalPlot(bfsSolPath, startNode, goalNode, shapes, 'bfsTestFive.png')"
   ]
  },
  {
   "cell_type": "markdown",
   "metadata": {},
   "source": [
    "   #### B. Depth-First Search(DFS) Implementation  \n",
    "\n",
    "**Problem Definition:**\n",
    "\n",
    "Given the starting and goal point, we are tasked to know the shortest solution path between those two points using the Depth-First Search Algorithm. \n",
    "\n",
    "\n",
    "**Data Structures**\n",
    "\n",
    "We use two data structures:\n",
    "   \n",
    "   (1) *path* is a dictionary to know the parent of the given node.\n",
    "   \n",
    "   (2) *visited* is a queue.\n",
    "\n",
    "   (3) *fringe* is a priority queue. \n",
    "\n",
    "\n",
    "**We proceed to the process:**\n",
    "\n",
    "1.we put the starting node in the fringe with priority 0\n",
    "\n",
    "2.we explore while the fringe still has nodes\n",
    "   \n",
    "3.so we pop the first element of the fringe which has the highest priority\n",
    "   \n",
    "4.put this to the expanded node\n",
    "  \n",
    "5.We check if the node that is expanded is the goal. We stop if it is and if not, we continue\n",
    "\n",
    "6.Since it's not the goal node, we look to its children\n",
    "that is if the node is not in the fringe, we append it\n",
    "to the fringe. \n",
    "\n",
    "7.Since in working with dfs, the fringe does the trick, we assign the priority depending on the depth of the node. We put the negative sign so that we consider them first as this is dfs. \n",
    "This also let us not use anymore the parent dictionary. \n",
    "\n",
    "\n",
    "We implement this solution in the code below:"
   ]
  },
  {
   "cell_type": "code",
   "execution_count": 15,
   "metadata": {
    "collapsed": true
   },
   "outputs": [],
   "source": [
    "from queue import PriorityQueue\n",
    "from collections import defaultdict \n",
    "import time\n",
    "\n",
    "def dfs(expandedNode, graph, startNode, goalNode):\n",
    "    path = [startNode]\n",
    "    visited = []\n",
    "    fringe = PriorityQueue()\n",
    "    fringe.put((0, startNode, path, visited))\n",
    "\n",
    "    while fringe:\n",
    "        depth, currentNode, path, visited = fringe.get()\n",
    "        \n",
    "        expandedNode.append(currentNode)\n",
    "\n",
    "        if currentNode == goalNode: \n",
    "            return (path + [currentNode]),expandedNode\n",
    "          \n",
    "        if currentNode not in visited:\n",
    "          visited = visited + [currentNode]\n",
    "\n",
    "        for node in graph[currentNode]: #look at the children\n",
    "            if node not in visited:\n",
    "                if node == goalNode:\n",
    "                    expandedNode.append(node)\n",
    "                    return (path + [node]),expandedNode               \n",
    "                fringe.put((-len(path), node, path + [node], visited + [node]))\n",
    "    return path \n",
    "\n",
    "def dfsAlgo(graph, startNode, goalNode):\n",
    "    expandedNode = []\n",
    "    print(\"starting point:\", startNode)\n",
    "    print(\"goal point:\", goalNode)\n",
    "    start = time.time()\n",
    "    path, expandedNode= dfs(expandedNode, graph, startNode, goalNode)\n",
    "    end = time.time()\n",
    "    print(\"solution path:\", path) \n",
    "    print(\"cost of the solution:\", len(path))\n",
    "    print(\"number of expanded nodes:\",len(expandedNode))\n",
    "    print(\"actual running time of the program:\", end - start)\n",
    "    \n",
    "    return path"
   ]
  },
  {
   "cell_type": "markdown",
   "metadata": {},
   "source": [
    "**Visualize Results**\n",
    "\n",
    "We use the function *finalPlot* below to plot our state space together with the solution path. The format of the function call is:\n",
    "\n",
    "      finalPlot(<name>SolPath, startNode, goalNode, shapes, '<name>Test<Number>.png')\n",
    "\n",
    "where *name* can be 'bfs','dfs' or 'A*' and *Number* is just to specify which test case.\n",
    "\n",
    "The *finalPlot* takes in the solution path of the search algorithm, the starting point, goal point, shapes and the image name. The shapes are used to draw the polygon obstacles just as like before. The solution path, starting point and goal point are the ones added to the state space. Lasly, the image name is used to save the final plot. \n",
    "\n",
    "\n",
    "*Note:*\n",
    "This is the same as before but copied here for easier read for the reader.\n",
    "The *finalPlot* function used here can be found above in BFS."
   ]
  },
  {
   "cell_type": "markdown",
   "metadata": {},
   "source": [
    "#### Five Test Cases ran on DFS\n",
    "\n",
    "Each test case is designed to show the weaknesses and strengths of the search algorithms for later usage in Analysis. \n",
    "The following test cases are performed with DFS:"
   ]
  },
  {
   "cell_type": "code",
   "execution_count": null,
   "metadata": {
    "collapsed": true
   },
   "outputs": [],
   "source": [
    "#Test Case No. 1:\n",
    "startNode, goalNode, grid, shapes = createStateSpaceGrid('in1.txt','maze1.png')\n",
    "graph = createGraph(grid)  #create the graph dictionary\n",
    "dfsSolPath = dfsAlgo(graph, startNode, goalNode)\n",
    "finalPlot(dfsSolPath, startNode, goalNode, shapes, 'dfsTestOne.png')\n"
   ]
  },
  {
   "cell_type": "markdown",
   "metadata": {},
   "source": [
    "**Result Description:**\n",
    "\n",
    "With the same number of expanded nodes with the solution path, the behavior of dfs as we can see is like brute forcing the rows and checking if the goal is found."
   ]
  },
  {
   "cell_type": "code",
   "execution_count": null,
   "metadata": {
    "collapsed": true
   },
   "outputs": [],
   "source": [
    "#Test Case No. 2:\n",
    "startNode, goalNode, grid, shapes = createStateSpaceGrid('in2.txt','maze2.png')\n",
    "graph = createGraph(grid)  #create the graph dictionary\n",
    "dfsSolPath = dfsAlgo(graph, startNode, goalNode)\n",
    "finalPlot(dfsSolPath, startNode, goalNode, shapes, 'dfsTestTwo.png')"
   ]
  },
  {
   "cell_type": "markdown",
   "metadata": {},
   "source": [
    "**Result Description:**\n",
    "\n",
    "Same as with the behavior as above but this time given large obstacles, the cost of solution is less than the expanded nodes that is 2984 vs 2992 traversed in ~1.3572 seconds."
   ]
  },
  {
   "cell_type": "code",
   "execution_count": null,
   "metadata": {
    "collapsed": true
   },
   "outputs": [],
   "source": [
    "#Test Case No. 3:\n",
    "startNode, goalNode, grid, shapes = createStateSpaceGrid('in3.txt','maze3.png')\n",
    "graph = createGraph(grid)  #create the graph dictionary\n",
    "dfsSolPath = dfsAlgo(graph, startNode, goalNode)\n",
    "finalPlot(dfsSolPath, startNode, goalNode, shapes, 'dfsTestThree.png')"
   ]
  },
  {
   "cell_type": "markdown",
   "metadata": {},
   "source": [
    "**Result Description:**\n",
    "Taking up ~2.90 seconds to get the solution path consisting of 4333 nodes out of 4359 nodes, the behavior as we can see is much like the same as before but at this time it round tripped to the farthest right then it moved all the way up going to the right then going to the left until it reaches its destination. "
   ]
  },
  {
   "cell_type": "code",
   "execution_count": null,
   "metadata": {
    "collapsed": true
   },
   "outputs": [],
   "source": [
    "#Test Case No. 4:\n",
    "startNode, goalNode, grid, shapes = createStateSpaceGrid('in4.txt','maze4.png')\n",
    "graph = createGraph(grid)  #create the graph dictionary\n",
    "dfsSolPath = dfsAlgo(graph, startNode, goalNode)\n",
    "finalPlot(dfsSolPath, startNode, goalNode, shapes, 'dfsTestFour.png')"
   ]
  },
  {
   "cell_type": "markdown",
   "metadata": {},
   "source": [
    "**Result Description:**\n",
    "\n",
    "As consistent as above's behaviors, with multiple small obstacles its solution path is lessen with 12 nodes as compare to its expanded nodes covering almost 3/4 of the plot in about ~2.3944 seconds."
   ]
  },
  {
   "cell_type": "code",
   "execution_count": 28,
   "metadata": {},
   "outputs": [
    {
     "data": {
      "image/png": "[encoded data removed]",
      "text/plain": [
       "<Figure size 432x288 with 1 Axes>"
      ]
     },
     "metadata": {},
     "output_type": "display_data"
    },
    {
     "name": "stdout",
     "output_type": "stream",
     "text": [
      "starting point: (89, 0)\n",
      "goal point: (89, 94)\n"
     ]
    },
    {
     "ename": "KeyboardInterrupt",
     "evalue": "",
     "output_type": "error",
     "traceback": [
      "\u001b[0;31m---------------------------------------------------------------------------\u001b[0m",
      "\u001b[0;31mKeyboardInterrupt\u001b[0m                         Traceback (most recent call last)",
      "\u001b[0;32m<ipython-input-28-65d1a9571564>\u001b[0m in \u001b[0;36m<module>\u001b[0;34m()\u001b[0m\n\u001b[1;32m      2\u001b[0m \u001b[0mstartNode\u001b[0m\u001b[0;34m,\u001b[0m \u001b[0mgoalNode\u001b[0m\u001b[0;34m,\u001b[0m \u001b[0mgrid\u001b[0m\u001b[0;34m,\u001b[0m \u001b[0mshapes\u001b[0m \u001b[0;34m=\u001b[0m \u001b[0mcreateStateSpaceGrid\u001b[0m\u001b[0;34m(\u001b[0m\u001b[0;34m'in5.txt'\u001b[0m\u001b[0;34m,\u001b[0m\u001b[0;34m'maze5.png'\u001b[0m\u001b[0;34m)\u001b[0m\u001b[0;34m\u001b[0m\u001b[0;34m\u001b[0m\u001b[0m\n\u001b[1;32m      3\u001b[0m \u001b[0mgraph\u001b[0m \u001b[0;34m=\u001b[0m \u001b[0mcreateGraph\u001b[0m\u001b[0;34m(\u001b[0m\u001b[0mgrid\u001b[0m\u001b[0;34m)\u001b[0m  \u001b[0;31m#create the graph dictionary\u001b[0m\u001b[0;34m\u001b[0m\u001b[0;34m\u001b[0m\u001b[0m\n\u001b[0;32m----> 4\u001b[0;31m \u001b[0mdfsSolPath\u001b[0m \u001b[0;34m=\u001b[0m \u001b[0mdfsAlgo\u001b[0m\u001b[0;34m(\u001b[0m\u001b[0mgraph\u001b[0m\u001b[0;34m,\u001b[0m \u001b[0mstartNode\u001b[0m\u001b[0;34m,\u001b[0m \u001b[0mgoalNode\u001b[0m\u001b[0;34m)\u001b[0m\u001b[0;34m\u001b[0m\u001b[0;34m\u001b[0m\u001b[0m\n\u001b[0m\u001b[1;32m      5\u001b[0m \u001b[0mfinalPlot\u001b[0m\u001b[0;34m(\u001b[0m\u001b[0mdfsSolPath\u001b[0m\u001b[0;34m,\u001b[0m \u001b[0mstartNode\u001b[0m\u001b[0;34m,\u001b[0m \u001b[0mgoalNode\u001b[0m\u001b[0;34m,\u001b[0m \u001b[0mshapes\u001b[0m\u001b[0;34m,\u001b[0m \u001b[0;34m'dfsTestFive.png'\u001b[0m\u001b[0;34m)\u001b[0m\u001b[0;34m\u001b[0m\u001b[0;34m\u001b[0m\u001b[0m\n",
      "\u001b[0;32m<ipython-input-15-8c7f49a38e45>\u001b[0m in \u001b[0;36mdfsAlgo\u001b[0;34m(graph, startNode, goalNode)\u001b[0m\n\u001b[1;32m     33\u001b[0m     \u001b[0mprint\u001b[0m\u001b[0;34m(\u001b[0m\u001b[0;34m\"goal point:\"\u001b[0m\u001b[0;34m,\u001b[0m \u001b[0mgoalNode\u001b[0m\u001b[0;34m)\u001b[0m\u001b[0;34m\u001b[0m\u001b[0;34m\u001b[0m\u001b[0m\n\u001b[1;32m     34\u001b[0m     \u001b[0mstart\u001b[0m \u001b[0;34m=\u001b[0m \u001b[0mtime\u001b[0m\u001b[0;34m.\u001b[0m\u001b[0mtime\u001b[0m\u001b[0;34m(\u001b[0m\u001b[0;34m)\u001b[0m\u001b[0;34m\u001b[0m\u001b[0;34m\u001b[0m\u001b[0m\n\u001b[0;32m---> 35\u001b[0;31m     \u001b[0mpath\u001b[0m\u001b[0;34m,\u001b[0m \u001b[0mexpandedNode\u001b[0m\u001b[0;34m=\u001b[0m \u001b[0mdfs\u001b[0m\u001b[0;34m(\u001b[0m\u001b[0mexpandedNode\u001b[0m\u001b[0;34m,\u001b[0m \u001b[0mgraph\u001b[0m\u001b[0;34m,\u001b[0m \u001b[0mstartNode\u001b[0m\u001b[0;34m,\u001b[0m \u001b[0mgoalNode\u001b[0m\u001b[0;34m)\u001b[0m\u001b[0;34m\u001b[0m\u001b[0;34m\u001b[0m\u001b[0m\n\u001b[0m\u001b[1;32m     36\u001b[0m     \u001b[0mend\u001b[0m \u001b[0;34m=\u001b[0m \u001b[0mtime\u001b[0m\u001b[0;34m.\u001b[0m\u001b[0mtime\u001b[0m\u001b[0;34m(\u001b[0m\u001b[0;34m)\u001b[0m\u001b[0;34m\u001b[0m\u001b[0;34m\u001b[0m\u001b[0m\n\u001b[1;32m     37\u001b[0m     \u001b[0mprint\u001b[0m\u001b[0;34m(\u001b[0m\u001b[0;34m\"solution path:\"\u001b[0m\u001b[0;34m,\u001b[0m \u001b[0mpath\u001b[0m\u001b[0;34m)\u001b[0m\u001b[0;34m\u001b[0m\u001b[0;34m\u001b[0m\u001b[0m\n",
      "\u001b[0;32m<ipython-input-15-8c7f49a38e45>\u001b[0m in \u001b[0;36mdfs\u001b[0;34m(expandedNode, graph, startNode, goalNode)\u001b[0m\n\u001b[1;32m     17\u001b[0m             \u001b[0;32mreturn\u001b[0m \u001b[0;34m(\u001b[0m\u001b[0mpath\u001b[0m \u001b[0;34m+\u001b[0m \u001b[0;34m[\u001b[0m\u001b[0mcurrentNode\u001b[0m\u001b[0;34m]\u001b[0m\u001b[0;34m)\u001b[0m\u001b[0;34m,\u001b[0m\u001b[0mexpandedNode\u001b[0m\u001b[0;34m\u001b[0m\u001b[0;34m\u001b[0m\u001b[0m\n\u001b[1;32m     18\u001b[0m \u001b[0;34m\u001b[0m\u001b[0m\n\u001b[0;32m---> 19\u001b[0;31m         \u001b[0;32mif\u001b[0m \u001b[0mcurrentNode\u001b[0m \u001b[0;32mnot\u001b[0m \u001b[0;32min\u001b[0m \u001b[0mvisited\u001b[0m\u001b[0;34m:\u001b[0m\u001b[0;34m\u001b[0m\u001b[0;34m\u001b[0m\u001b[0m\n\u001b[0m\u001b[1;32m     20\u001b[0m           \u001b[0mvisited\u001b[0m \u001b[0;34m=\u001b[0m \u001b[0mvisited\u001b[0m \u001b[0;34m+\u001b[0m \u001b[0;34m[\u001b[0m\u001b[0mcurrentNode\u001b[0m\u001b[0;34m]\u001b[0m\u001b[0;34m\u001b[0m\u001b[0;34m\u001b[0m\u001b[0m\n\u001b[1;32m     21\u001b[0m \u001b[0;34m\u001b[0m\u001b[0m\n",
      "\u001b[0;31mKeyboardInterrupt\u001b[0m: "
     ]
    }
   ],
   "source": [
    "#Test Case No.5:\n",
    "startNode, goalNode, grid, shapes = createStateSpaceGrid('in5.txt','maze5.png')\n",
    "graph = createGraph(grid)  #create the graph dictionary\n",
    "dfsSolPath = dfsAlgo(graph, startNode, goalNode)\n",
    "finalPlot(dfsSolPath, startNode, goalNode, shapes, 'dfsTestFive.png')"
   ]
  },
  {
   "cell_type": "markdown",
   "metadata": {},
   "source": [
    "**Result Description:**\n",
    "\n",
    "This is the slowest dfs solution for this kind of environment. With 9198 seconds out of 9929 seconds, it amounted to ~16.4652 seconds. The behavior is as follows: upon hitting an obstacle, it moved upward until it reached the limit above, then it moved downward just as before brute forcing rows until it reached the destination."
   ]
  },
  {
   "cell_type": "markdown",
   "metadata": {},
   "source": [
    "   #### C. A* Search Implementation  \n",
    "\n",
    "**Problem Definition:**\n",
    "\n",
    "Given the starting and goal point, we are tasked to know the shortest solution path between those two points using the A* Search Algorithm. \n",
    "\n",
    "\n",
    "**Heuristic Function**\n",
    "\n",
    "\n",
    "**Data Structures**\n",
    "We use three data structures:\n",
    "   \n",
    "   (1) an atomic *cell* structure which represents points in our maze. A cell notes relational (parent) and positional information of a node, along with the capacity to store cost, heuristic, and total cost (all initialized to 0, but to be incrementally reinitiallized for each run of our algorithm)\n",
    "   \n",
    "   (2) a *priority queue* like list, from which we pop the node of least cost with each iteration of the algorithm\n",
    "\n",
    "   (3) a *tree* of cells, formed by the relational information of cells\n",
    "   \n",
    "**We proceed to the process:**\n",
    "\n",
    "1.initialize open and closed lists\n",
    "\n",
    "2. insert start node into open list (with total_cost = 0)\n",
    "   \n",
    "3. while there is a node in the open list (ie. list is not empty)\n",
    "\n",
    "    (a) pop the least total_cost node from the open list\n",
    "    \n",
    "    (b) check if goal node is the node that has just been added to the open list; if not\n",
    "    \n",
    "    (c) generate the adjacent cells or neighbors of the current node in the open list, parent as the current node\n",
    "    \n",
    "    (d) iterate through each adjacent cell to check\n",
    "    \n",
    "        (i) if the adjacent node is the end point or goal point,stop searching and RETURN the PATH from the start node to this node\n",
    "        \n",
    "        (ii) if the adjacent node is NOT walkable or has an obstacle shape, then SKIP\n",
    "        \n",
    "        (iii) if the adjacent node is beyond the range of the width and height of the maze, SKIP\n",
    "        \n",
    "        (iv) for each valid adjacent cell, make a CHILD node, with the CURRENT node as its parent\n",
    "        \n",
    "   \n",
    "4. for each valid child or adjacent cell\n",
    "    \n",
    "    (a) check if the child has already been processed, or is already in the closed list. If is already in the closed list, SKIP\n",
    "    \n",
    "    (b) check the heuristic of the child node (for our default, the heuristic is set to the diagonal distance between nodes)\n",
    "    \n",
    "    (c) determine the total estimated cost of reaching the new node\n",
    "    \n",
    "    (d) check of the child node is in the open list. If it is in the list, check if the cost of the current child from its current parent node is more than its cost stored in the open list; if so, SKIP.\n",
    "  \n",
    "The algorithm will end when the current node reached is end or goal node.\n",
    "\n",
    "We implement this solution in the code below:"
   ]
  },
  {
   "cell_type": "code",
   "execution_count": 16,
   "metadata": {
    "collapsed": true
   },
   "outputs": [],
   "source": [
    "# based on tutorial from\n",
    "# https://medium.com/@nicholas.w.swift/easy-a-star-pathfinding-7e6689c7f7b2\n",
    "# and \n",
    "# https://www.geeksforgeeks.org/a-search-algorithm/\n",
    "import math\n",
    "\n",
    "class Node():\n",
    "    \"\"\"A node class for A* Pathfinding\"\"\"\n",
    "\n",
    "    def __init__(self, parent=None, position=None):\n",
    "        self.parent = parent\n",
    "        self.position = position\n",
    "\n",
    "        self.cost = 0\n",
    "        self.heuristic = 0\n",
    "        self.total_cost = 0\n",
    "\n",
    "    def __eq__(self, other):\n",
    "        # print(\"checking node equality\", self.position, other.position)\n",
    "        return self.position[0] == other.position[0] and self.position[1] == other.position[1] \n",
    "\n",
    "def get_distance(x1, y1, x2, y2, technique):\n",
    "    if technique == \"diagonal\":\n",
    "        return (x1 - x2)**2 + (y1 - y2)**2 # ((child.position[0] - end_node.position[0]) ** 2) + ((child.position[1] - end_node.position[1]) ** 2)\n",
    "    \n",
    "    if technique == \"manhattan\":\n",
    "        return abs(x1 - x2) + abs(y1 - y2)\n",
    "\n",
    "\n",
    "def astar(maze, start, end):\n",
    "    # create start and end node\n",
    "    start_node = Node(None, start)\n",
    "    end_node = Node(None, end)\n",
    "\n",
    "    expandedNodes = 0\n",
    "\n",
    "    # initialize lists\n",
    "    open_list   = []\n",
    "    closed_list = []\n",
    "\n",
    "    # put the start node in the open list\n",
    "    open_list.append(start_node)\n",
    "\n",
    "    # define looping condition\n",
    "    # ie. if there are nodes left to open\n",
    "    # then continue to loop\n",
    "    has_open_node = len(open_list) > 0\n",
    "\n",
    "    while has_open_node:\n",
    "        curr_index = 0\n",
    "        curr_node = open_list[curr_index]\n",
    "\n",
    "        # find the node with the least total_cost\n",
    "        for index, node in enumerate(open_list):\n",
    "            if node.total_cost < curr_node.total_cost:\n",
    "                curr_node  = node\n",
    "                curr_index = index\n",
    "\n",
    "        # pop most recent current node from open list\n",
    "        # enqueue to closed_list\n",
    "        open_list.pop(curr_index)\n",
    "\n",
    "\n",
    "        closed_list.append(curr_node)\n",
    "\n",
    "        # Found the goal\n",
    "        if curr_node == end_node:\n",
    "            path = []\n",
    "            curr = curr_node\n",
    "            while curr is not None:\n",
    "                path.append(curr.position)\n",
    "                curr = curr.parent\n",
    "            path.reverse()\n",
    "            return path, expandedNodes\n",
    "\n",
    "        # initialize children list\n",
    "        children = []\n",
    "\n",
    "        # set the relative positions of all possible adjacent cells\n",
    "        # technique is given by Swift, Nicolas\n",
    "        # from https://medium.com/@nicholas.w.swift/easy-a-star-pathfinding-7e6689c7f7b2\n",
    "\n",
    "        adj_cells = [(-1, -1), (-1, 0), (-1, 1),\n",
    "                     ( 0, -1),          (0, 1),  \n",
    "                     (1, -1),  ( 1, 0), (1, 1)]\n",
    "        \n",
    "        for new_position in adj_cells: # adj squares\n",
    "\n",
    "            # Get node position\n",
    "            curr_x = curr_node.position[0]\n",
    "            curr_y = curr_node.position[1]\n",
    "\n",
    "            new_x = new_position[0]\n",
    "            new_y = new_position[1]\n",
    "\n",
    "            node_position = (curr_x + new_x, curr_y + new_y)\n",
    "\n",
    "            # Make sure walkable terrain\n",
    "            is_walkable = maze[node_position[0]][node_position[1]] == 0\n",
    "            if not is_walkable:\n",
    "                continue\n",
    "\n",
    "            # Make sure within range\n",
    "            is_within_range = node_position[0] > (len(maze) - 1) or node_position[0] < 0 or node_position[1] > (len(maze[len(maze)-1]) -1) or node_position[1] < 0\n",
    "            if is_within_range:\n",
    "                continue\n",
    "\n",
    "            # Create new node\n",
    "            new_node = Node(curr_node, node_position)\n",
    "\n",
    "            # Append\n",
    "            children.append(new_node)\n",
    "\n",
    "        # Check children\n",
    "        for child in children:\n",
    "            for closed_child in closed_list: # for all nodes that have been checked\n",
    "                if child == closed_child:    # check if this node has been checked\n",
    "                    continue                 # if checked, don't process\n",
    "\n",
    "            # total_cost, cost, and heuristic values\n",
    "            child.cost = curr_node.cost + 1\n",
    "\n",
    "            # child.heuristic = ((child.position[0] - end_node.position[0]) ** 2) + ((child.position[1] - end_node.position[1]) ** 2)\n",
    "            child.heuristic = get_distance(child.position[0], child.position[1], end_node.position[0], end_node.position[1], \"diagonal\")\n",
    "            \n",
    "            # heuristic could either be chebychev or diagonal\n",
    "\n",
    "            child.total_cost = child.cost + child.heuristic\n",
    "\n",
    "            for open_node in open_list:     # if child is in set of points pending opening\n",
    "                child_is_open = child == open_node\n",
    "                if child_is_open:\n",
    "                    if child.cost > open_node.cost:\n",
    "                        continue\n",
    "\n",
    "            # Add the child to the open list\n",
    "            expandedNodes = expandedNodes + 1\n",
    "            open_list.append(child)"
   ]
  },
  {
   "cell_type": "markdown",
   "metadata": {},
   "source": [
    "**Test case runs**\n",
    "\n",
    "Test cases for A* are implemented by toggling the variable 'TEST_CASE' any value from 1 to 5. This will then pull input files of their corresponding numbers."
   ]
  },
  {
   "cell_type": "code",
   "execution_count": 21,
   "metadata": {},
   "outputs": [],
   "source": [
    "from read import *\n",
    "from astar import Node, astar\n",
    "\n",
    "def run_test_case(TEST_CASE):\n",
    "    startNode, goalNode, shapes = read_input('in'+ str(TEST_CASE) + '.txt')\n",
    "    print(shapes)\n",
    "\n",
    "    plt.figure()\n",
    "    plt.xlim(0, 200)\n",
    "    plt.ylim(0, 100)\n",
    "\n",
    "    plt.gca().invert_yaxis()\n",
    "\n",
    "    for shape in shapes:\n",
    "        plot_polygon(shape)\n",
    "\n",
    "    # plt.show()\n",
    "\n",
    "    plt.plot(100, 200) # to ensure dimensions are 100,200\n",
    "    plt.axis('off')\n",
    "    plt.tick_params(axis='both', left=False, top=False, right=False, bottom=False, labelleft=False, labeltop=False,\n",
    "                        labelright=False, labelbottom=False)\n",
    "    \n",
    "    plt.savefig('maze'+ str(TEST_CASE) + '.png', bbox_inches='tight', transparent=True, pad_inches=0)\n",
    "\n",
    "    # plt.show()\n",
    "    plt.clf() \n",
    "\n",
    "\n",
    "    img = cv2.imread('maze'+ str(TEST_CASE) + '.png', cv2.IMREAD_GRAYSCALE)\n",
    "    light = cv2.resize(img, (200, 100))\n",
    "\n",
    "    # plt.axis('off')\n",
    "    plt.tick_params(axis='both', left=False, top=False, right=False, bottom=False, labelleft=False, labeltop=False, labelright=False, labelbottom=False)\n",
    "    plt.tight_layout(pad=0)\n",
    "    imgplot = plt.imshow(img, cmap='Greys_r')\n",
    "\n",
    "    grid = np.zeros((100, 200))\n",
    "    grid = grid.tolist()\n",
    "\n",
    "    for row, row_points in enumerate(light):\n",
    "        for col, col_val in enumerate(row_points):\n",
    "            if col_val < 255:\n",
    "                # print(\"found a color\")\n",
    "                grid[row][col] = int(1)\n",
    "            else:\n",
    "                grid[row][col] = int(0)\n",
    "\n",
    "    start = time.time()\n",
    "    path, expandedNodes = astar(grid, startNode, goalNode)\n",
    "    end = time.time()\n",
    "\n",
    "    plt.clf()\n",
    "\n",
    "    img = cv2.imread('maze'+ str(TEST_CASE) + '.png', cv2.IMREAD_GRAYSCALE)\n",
    "    light = cv2.resize(img, (200, 100))\n",
    "\n",
    "    plt.xlim(0, 200)\n",
    "    plt.ylim(0, 100)\n",
    "\n",
    "\n",
    "    plt.gca().invert_yaxis()\n",
    "\n",
    "    for shape in shapes:\n",
    "        plot_polygon(shape)\n",
    "\n",
    "\n",
    "    for point in path:\n",
    "        plot_point(point)\n",
    "\n",
    "    # plt.axis('off')\n",
    "    # cplt.tick_params(axis='both', left=False, top=False, right=False, bottom=False, labelleft=False, labeltop=False, labelright=False, labelbottom=False)\n",
    "    plt.tight_layout(pad=0)\n",
    "    plt.savefig('maze'+ str(TEST_CASE) + '_sol.png')\n",
    "    plt.show()\n",
    "\n",
    "\n",
    "    print(\"starting point:\", startNode)\n",
    "    print(\"goal point:\", goalNode)\n",
    "    print(\"solution Path:\",path)\n",
    "    print(\"cost of the solution:\", len(path))\n",
    "    print(\"number of expanded nodes:\",expandedNodes)\n",
    "    end = time.time()\n",
    "    print(\"actual running time of the program:\", end - start)\n"
   ]
  },
  {
   "cell_type": "markdown",
   "metadata": {},
   "source": [
    "**Visualize Results**\n",
    "\n",
    "Results are visualized per test case with their"
   ]
  },
  {
   "cell_type": "markdown",
   "metadata": {},
   "source": [
    "#### Five Test Cases ran on A*\n",
    "\n",
    "Each test case is designed to show the weaknesses and strengths of the search algorithms for later usage in Analysis. \n",
    "The following test cases are performed with A*:"
   ]
  },
  {
   "cell_type": "code",
   "execution_count": 22,
   "metadata": {},
   "outputs": [
    {
     "name": "stdout",
     "output_type": "stream",
     "text": [
      "[[[50, 50], [30, 50], [30, 40]], [[100, 50], [20, 80], [100, 80]]]\n"
     ]
    },
    {
     "data": {
      "image/png": "[encoded data removed]",
      "text/plain": [
       "<Figure size 432x288 with 1 Axes>"
      ]
     },
     "metadata": {},
     "output_type": "display_data"
    },
    {
     "name": "stdout",
     "output_type": "stream",
     "text": [
      "starting point: (0, 0)\n",
      "goal point: (10, 0)\n",
      "solution Path: [(0, 0), (1, 0), (2, 0), (3, 0), (4, 0), (5, 0), (6, 0), (7, 0), (8, 0), (9, 0), (10, 0)]\n",
      "cost of the solution: 11\n",
      "number of expanded nodes: 48\n",
      "actual running time of the program: 0.3849971294403076\n"
     ]
    }
   ],
   "source": [
    "#Test Case No. 1:\n",
    "from astar import Node, astar\n",
    "\n",
    "run_test_case(1)"
   ]
  },
  {
   "cell_type": "markdown",
   "metadata": {},
   "source": [
    "**Result Description for A* Test Case 1:**\n",
    "\n",
    "From the above we can see that the results are similar to DFS, but requiring significantly less node expansion. The cost of the solution path is the same, but node expansion is a magnitude of 10 less. This shows how A* more deliberately decides its searach direction, vs. DFS and BFS, which are generally less deliberate."
   ]
  },
  {
   "cell_type": "code",
   "execution_count": null,
   "metadata": {},
   "outputs": [],
   "source": [
    "#Test Case No. 2:\n",
    "from astar import Node, astar\n",
    "\n",
    "run_test_case(2)"
   ]
  },
  {
   "cell_type": "markdown",
   "metadata": {},
   "source": [
    "**Result Description for A* Test Case 2:**\n",
    "\n",
    "The above is again significantly faster than the same test case for BFS and DFS.  The expanded nodes are almost an order of 10 smaller, while the actual runtime of the algorithm is almost half that of the other algorithms for the same test case environment."
   ]
  },
  {
   "cell_type": "code",
   "execution_count": null,
   "metadata": {},
   "outputs": [],
   "source": [
    "#Test Case No. 3:\n",
    "from astar import Node, astar\n",
    "\n",
    "run_test_case(3)"
   ]
  },
  {
   "cell_type": "markdown",
   "metadata": {},
   "source": [
    "**Result Description for A* Test Case 3:**\n",
    "\n",
    "For this test case we can better see how A* is deliberate in its searching. Instead of searching through spaces which are not close to the goal point, it goes directly to the direction of the goal poin. It intelligently detects the obstacle shape and avoids such, but immediately returns to the direction of the goal state."
   ]
  },
  {
   "cell_type": "code",
   "execution_count": null,
   "metadata": {},
   "outputs": [],
   "source": [
    "#Test Case No. 4:\n",
    "from astar import Node, astar\n",
    "\n",
    "run_test_case(4)"
   ]
  },
  {
   "cell_type": "code",
   "execution_count": null,
   "metadata": {
    "collapsed": true
   },
   "outputs": [],
   "source": [
    "**Result Description for A* Test Case 4:**\n",
    "\n",
    "Though its solution path is once again somewhat comparable to that of DFS, this test case once again shows the deliberate nature of the direction of A* search. It immediately and consistently moves in the direction of its intended goal."
   ]
  },
  {
   "cell_type": "code",
   "execution_count": null,
   "metadata": {},
   "outputs": [],
   "source": [
    "#Test Case No. 5:\n",
    "from astar import Node, astar\n",
    "\n",
    "run_test_case(5)"
   ]
  },
  {
   "cell_type": "markdown",
   "metadata": {},
   "source": [
    "## Analysis:\n",
    "\n",
    "We proceed now to the Analysis part such that we make use of the generated information of the test cases to analyze and compare each search algorithm.\n",
    "\n",
    "<img src=\"Analysis1.png\">\n",
    "\n",
    "From the above algorithm test cases, we can see that "
   ]
  },
  {
   "cell_type": "markdown",
   "metadata": {},
   "source": [
    "##### References:\n",
    "\n",
    "Apollo, ApolloApollo 163115, Mathias EttingerMathias Ettinger 25.1k33185, & Sesoteksesotek 5111. (n.d.). BFS Implementation in Python 3. Retrieved from https://codereview.stackexchange.com/questions/135156/bfs-implementation-in-python-3\n",
    "\n",
    "Bader, D. (2017). Priority Queues in Python – dbader.org. Retrieved from https://dbader.org/blog/priority-queues-in-python\n",
    "\n",
    "Laurent Luce's Blog. (n.d.). Retrieved from https://www.laurentluce.com/posts/solving-mazes-using-python-simple-recursivity-and-a-search/?fbclid=IwAR2RBw9xDekTR8ewSLGbYdstkUesPaF5BR3XwA-nXPpiVR68gNqckMj7WY4\n",
    "\n",
    "Lennyboyatzis. (2017). AI - Teaching Pacman To Search With Depth First Search. Retrieved from https://medium.com/@lennyboyatzis/ai-teaching-pacman-to-search-with-depth-first-search-ee57daf889ab\n",
    "\n",
    "Swift, N. (2017). Easy A* (star) Pathfinding. Retrieved from \n",
    "https://medium.com/@nicholas.w.swift/easy-a-star-pathfinding-7e6689c7f7b2?fbclid=IwAR1XKoVqoJrR25lTZXWJ05sbNMasFvLNP6r5NiXe9UjjecvuGDU6GsUYg5Q"
   ]
  }
 ],
 "metadata": {
  "kernelspec": {
   "display_name": "Python 3",
   "language": "python",
   "name": "python3"
  }
 },
 "nbformat": 4,
 "nbformat_minor": 2
}
