{
 "cells": [
  {
   "cell_type": "markdown",
   "metadata": {},
   "source": [
    "# Machine Problem  1 - Path Planning\n",
    " **Cruz, Rianna**   \n",
    " **Leal, Lois Anne**"
   ]
  },
  {
   "cell_type": "markdown",
   "metadata": {},
   "source": [
    "## Problem Description: \n",
    "Consider the problem of finding the shortest path between two points on a plane that has polygonal obstacles. This is an idealization of the problem a robot has to solve to navigate it way around a crowded environment."
   ]
  },
  {
   "cell_type": "markdown",
   "metadata": {},
   "source": [
    "## Solution Proper:\n",
    "\n",
    "We provide the solution such that we first discuss how we set up the state space--from our input files to the graph dictionary that we will be using in our search algorithms. We then discuss each algorithms using our first test cases. We compress our code for each major steps into functions to provide readability, since we will be using them in other test cases. So at the end of the discussion of each algorithm, we run the five test cases--the first one included--so as to show and provided understanding to each test case.\n",
    "\n",
    "At the end, after we have discussed all the algorithms and run each five test cases for each algorithm, we analyze and compare each algorithm. The five test cases are actually created with the mind to benefit the analysis and comparison of the algorithms--showing their strengths and weaknesses in the selected criteria."
   ]
  },
  {
   "cell_type": "markdown",
   "metadata": {},
   "source": [
    "### 1. Setting Up the State Space "
   ]
  },
  {
   "cell_type": "markdown",
   "metadata": {},
   "source": [
    "  #### A. As Grid"
   ]
  },
  {
   "cell_type": "markdown",
   "metadata": {},
   "source": [
    "In setting up the state space, our main function is the createStateSpaceGrid which outputs the startNode, goalNode and the grid we will be using in our next step. The format of the call function is as shown below:\n",
    "\n",
    "            startNode, goalNode, grid = createStateSpaceGrid(fileName,imgName)\n",
    "\n",
    "The idea of createStateSpace is further divided into three major group of steps. The first one is to read the .txt file using the *read_input* function. To express the obstacles into an accessible 100 x 200 grid, we defined two functions such as *plot_polygon* and *plot_point* so as to first plot them and save the result as a .png image. We want the image to be in grayscale so as to refer to 0s as points not in the polygon obstacle(s) and to refer to 1s as points in the polygon obstacle(s). Lastly, out of the image, we create the accessible grid. \n",
    "\n",
    "*Note:* Together with the functions stated above, we also used some python libraries such as matplotlib, numpy and cv2."
   ]
  },
  {
   "cell_type": "code",
   "execution_count": 7,
   "metadata": {
    "collapsed": true
   },
   "outputs": [],
   "source": [
    "import re\n",
    "\n",
    "def read_input(filename):\n",
    "    file = open (filename, 'r+', encoding='utf-8')\n",
    "    point = r'([\\d]+,[\\d]+)'\n",
    "\n",
    "    start = tuple(map(int, re.search(point, file.readline())[0].split(',')))\n",
    "    goal  = tuple(map(int, re.search(point, file.readline())[0].split(',')))\n",
    "\n",
    "    shapes = []\n",
    "    for line in file:\n",
    "        shape = []\n",
    "        for point_i in re.findall(point, line):\n",
    "            point_int = map(int, point_i.split(','))\n",
    "            shape.append(list(point_int))\n",
    "        shapes.append(shape)\n",
    "\n",
    "    file.close()\n",
    "    return start, goal, shapes"
   ]
  },
  {
   "cell_type": "code",
   "execution_count": 21,
   "metadata": {
    "collapsed": true
   },
   "outputs": [],
   "source": [
    "import matplotlib.pyplot as plt\n",
    "\n",
    "def plot_polygon(coord):\n",
    "    coord.append(coord[0]) # repeat the first point to create a 'closed loop'\n",
    "    ys, xs = zip(*coord)   # create lists of x and y values\n",
    "    plt.plot(ys,xs, linewidth=10) \n",
    "\n",
    "def plot_point(pt):\n",
    "    plt.scatter(pt[1], pt[0], 20)"
   ]
  },
  {
   "cell_type": "code",
   "execution_count": 55,
   "metadata": {
    "collapsed": true
   },
   "outputs": [],
   "source": [
    "import matplotlib.pyplot as plt\n",
    "import numpy as np\n",
    "import cv2\n",
    "\n",
    "def createStateSpaceGrid(fileName, imgName):\n",
    "    # read .txt file\n",
    "    startNode, goalNode, shapes = read_input(fileName) \n",
    "\n",
    "    # plot the figure\n",
    "    plt.figure() \n",
    "    plt.xlim(0, 200)\n",
    "    plt.ylim(0, 100)\n",
    "    plt.gca().invert_yaxis()\n",
    "\n",
    "    for shape in shapes:\n",
    "        plot_polygon(shape) \n",
    "\n",
    "    # plot starting and goal points\n",
    "    plot_point(startNode) \n",
    "    plot_point(goalNode)\n",
    "\n",
    "    # save the figure as .png image file\n",
    "    plt.axis('off')\n",
    "    plt.tick_params(axis='both', left=False, top=False, right=False, bottom=False, labelleft=False, labeltop=False,\n",
    "                        labelright=False, labelbottom=False)\n",
    "    # plt.savefig('maze.png', bbox_inches='tight', transparent=True, pad_inches=0)\n",
    "    plt.savefig(imgName, bbox_inches='tight', transparent=True, pad_inches=0)\n",
    "    plt.clf() \n",
    "    \n",
    "    # read the image file and resize to original scale\n",
    "    img = cv2.imread(imgName, cv2.IMREAD_GRAYSCALE)\n",
    "    light = cv2.resize(img, (200, 100))\n",
    "    \n",
    "    # ensure borderless processing\n",
    "    plt.axis('off')\n",
    "    plt.tick_params(axis='both', left=False, top=False, right=False, bottom=False, labelleft=False, labeltop=False,\n",
    "                            labelright=False, labelbottom=False)\n",
    "    plt.tight_layout(pad=0)\n",
    "    \n",
    "    # convert to grayscale for later for\n",
    "    # 0s to mean not a point in the polygon obstacle\n",
    "    # 1s to mean a point in the polygon obstacle\n",
    "    imgplot = plt.imshow(img, cmap='Greys_r')\n",
    "\n",
    "    plt.show()\n",
    "\n",
    "    # initialize the grid\n",
    "    grid = np.zeros((100, 200))\n",
    "\n",
    "    # express the sides of the polygon obstacle(s) as 1s \n",
    "    # in the grid\n",
    "    for row, row_points in enumerate(light):\n",
    "        for col, col_val in enumerate(row_points):\n",
    "            if col_val < 255:\n",
    "                grid[row][col] = 1\n",
    "\n",
    "    grid = grid.tolist()\n",
    "    \n",
    "    return startNode, goalNode, grid, shapes"
   ]
  },
  {
   "cell_type": "code",
   "execution_count": 58,
   "metadata": {},
   "outputs": [
    {
     "data": {
      "image/png": "[encoded data removed]",
      "text/plain": [
       "<Figure size 432x288 with 1 Axes>"
      ]
     },
     "metadata": {},
     "output_type": "display_data"
    }
   ],
   "source": [
    "startNode, goalNode, grid, shapes = createStateSpaceGrid('in1.txt','maze1.png')"
   ]
  },
  {
   "cell_type": "markdown",
   "metadata": {},
   "source": [
    "  #### B. Converting the Grid Representation to a Graph Dictionary"
   ]
  },
  {
   "cell_type": "markdown",
   "metadata": {},
   "source": [
    "After getting the accessible grid, we convert it further to a graph dictionary. The rationale behind choosing graph dictionary is that, we can manipulate them easier and they also simulate the behavior of trees per se. \n",
    "\n",
    "Our main function here is:\n",
    "\n",
    "                               graph = createGraph(grid) \n",
    "\n",
    "The graph dictionary has the following structure:\n",
    "\n",
    "                  (parent tuple): [(child1 tuple), (child2 tuple), ...]\n",
    "                         \n",
    "Intuitively, explaining the structure, we use tuples to represent the nodes of our graph such that for each cell in the grid, we see them as nodes in the graph. Furthermore, the format above explains that for each node in the grid and *not in a polygon obstacle*, we consider as a parent node and its children, *also not in a polygon obstacle*, as the possible moves which are left, right, top and bottom. "
   ]
  },
  {
   "cell_type": "code",
   "execution_count": 59,
   "metadata": {
    "collapsed": true
   },
   "outputs": [],
   "source": [
    "from collections import defaultdict \n",
    "\n",
    "def addEdge(graph,u,v): \n",
    "    graph[u].append(v)\n",
    "\n",
    "\n",
    "def createGraph(grid):\n",
    "    #get the size of the grid\n",
    "    rows = len(grid) \n",
    "    cols = len(grid[0])\n",
    "\n",
    "    graph = defaultdict(list) \n",
    "    \n",
    "    for row in range(rows):\n",
    "        for col in range(cols):\n",
    "            # move only when there's a space to move in the direction\n",
    "            # and the considered point is not a point in the obstacle\n",
    "        \n",
    "            if col != 0 and grid[row][col]!=1 and grid[row][col-1]!=1:\n",
    "                addEdge(graph,(row,col),(row,col-1)) #left\n",
    "                \n",
    "            if col < cols-1 and grid[row][col]!=1 and grid[row][col+1]!=1:\n",
    "                addEdge(graph,(row,col),(row,col+1)) #right\n",
    "                \n",
    "            if row != 0 and grid[row][col]!=1 and grid[row-1][col]!=1:\n",
    "                addEdge(graph,(row,col),(row-1,col)) #top\n",
    "                \n",
    "            if row < rows-1 and grid[row][col]!=1 and grid[row+1][col]!=1:\n",
    "                addEdge(graph,(row,col),(row+1,col)) #bottom\n",
    "    \n",
    "    return graph"
   ]
  },
  {
   "cell_type": "code",
   "execution_count": 27,
   "metadata": {
    "collapsed": true
   },
   "outputs": [],
   "source": [
    "graph = createGraph(grid) "
   ]
  },
  {
   "cell_type": "code",
   "execution_count": null,
   "metadata": {
    "collapsed": true
   },
   "outputs": [],
   "source": [
    "# uncomment to print the graph dictionary \n",
    "# for k,v in graph.items():\n",
    "#    print(k,':',v)"
   ]
  },
  {
   "cell_type": "markdown",
   "metadata": {},
   "source": [
    "### 2. Search Algorithms\n",
    "\n",
    "Now that our state space is set, we proceed to our Search Algorithms which will be explained in the following order: Breadth-First Search(BFS), Depth-First Search(DFS) and A* Search. \n",
    "\n",
    "For each search algorithm, we give the state again the problem definition. We then show the data structures that will be used and tell its process. Also, in some of the algorithms we included remarks such as word of cautions and some notes. \n",
    "\n",
    "Each algorithm is implemented as a function such that each has a calling function of the format:\n",
    "\n",
    "                           <name>Algo(graph, startNode, goalNode)\n",
    "                           \n",
    "where <name> can be 'bfs','dfs', or 'Astar'. This function prints the starting point, goal point, solution path, cost of solution, number of expanded nodes, and actual running time of the program. Note, however, that in BFS and DFS, each step is 1. Thus, the cost of the solution path is the length of the solution path. \n",
    "\n",
    "After the function(s) related to the main algorithm were processed, we visualize what happened by plotting again the state space, but now together with the solution path. We do this to all five test cases."
   ]
  },
  {
   "cell_type": "markdown",
   "metadata": {},
   "source": [
    "   #### A. Breadth-First Search(BFS) Implementation  \n",
    "\n",
    "**Problem Definition:**\n",
    "\n",
    "Given the starting and goal point, we are tasked to know the shortest solution path between those two points using the Breadth First Search Algorithm. \n",
    "\n",
    "\n",
    "**Data Structures:**\n",
    "\n",
    "We use two data structures:\n",
    "   \n",
    "   (1) *parent* is a dictionary to know the parent of the given node.\n",
    "   \n",
    "   (2) *fringe* is a queue.\n",
    "\n",
    "\n",
    "**We proceed to the process:**\n",
    "\n",
    "1.we append the starting node to the fringe\n",
    "\n",
    "2.we explore while the fringe still has nodes\n",
    "   \n",
    "3.so we pop the first element of the fringe\n",
    "   \n",
    "4.put this to the expanded node\n",
    "*Note:* we enable duplicates with the nodes such that an explored node may still be considered\n",
    "  \n",
    "5.We check if the node that is expanded is the goal. We stop if it is and if not, we continue\n",
    "   \n",
    "6.Since it's not the goal node, we look to its children\n",
    "that is if the node is not in the fringe, we append it\n",
    "to the fringe. \n",
    "\n",
    "\n",
    "**Caution! The Nature of Starting and Goal Point**\n",
    "\n",
    "However, we need to consider the nature of starting and goal point in telling who's the parent and who's the child for backtracking purposes later to get the solution path if we reached the goal. \n",
    "     \n",
    "So if the start point is found above or in the same row as the goal point, we will only assign the parent-child relationship such that only those who are in the higher rows or\n",
    "in the same row can parent but not those who are below them can parent the ones above. \n",
    "\n",
    "On the other hand, if the start point is found below or in the same row as the goal point,\n",
    "we will only assign the parent-child relationship such that only those who are in the lower rows or in the same row can parent but not those who are above them can parent the ones below. \n",
    "\n",
    "***Why?***\n",
    "\n",
    "Since we are considering graphs, it is possible to have cycles. If we do not include those conditions, there will come a time that the above node can parent the below and the below can parent the above, thus if we backtrack say (3,0) is the parent of (4,0), then it would ask, who is the parent of (3,0) then we will find that it is (4,0) and it will just loop forever--which we do not want to happen.\n",
    "\n",
    "We implement this solution in the code below:"
   ]
  },
  {
   "cell_type": "code",
   "execution_count": null,
   "metadata": {
    "collapsed": true
   },
   "outputs": [],
   "source": [
    "import time\n",
    "\n",
    "def backtrace(parent, start, end):\n",
    "    path = [end]\n",
    "    while path[-1] != start:\n",
    "        add = parent[path[-1]]\n",
    "        path.append(add)\n",
    "    path.reverse()\n",
    "    return path\n",
    "      \n",
    "def bfs(expandedNode, graph, start, goal):\n",
    "    parent = {} \n",
    "    fringe = [] \n",
    "    fringe.append(start) #append starting node\n",
    "    \n",
    "    while fringe: #explore til the fringe is not empty!\n",
    "        node = fringe.pop(0) #get vertex\n",
    "        expandedNode.append(node) #append the considered vertex to the Expanded Nodes\n",
    "        if node == goal: #if reaches goal node\n",
    "            return backtrace(parent, start, goal),expandedNode\n",
    "        for adjacent in graph.get(node, []): #consider the children of the popped node \n",
    "            if node not in fringe:     \n",
    "                if start[0]<=goal[0]:\n",
    "                  if adjacent[0] >= node[0]:\n",
    "                    parent[adjacent] = node  \n",
    "                if start[0]>=goal[0]:\n",
    "                    if adjacent[0] <= node[0]:\n",
    "                      parent[adjacent] = node  \n",
    "                fringe.append(adjacent) \n",
    "\n",
    "def bfsAlgo(graph, startNode, goalNode):\n",
    "    expandedNode = []\n",
    "    start = time.time()\n",
    "    print(\"starting point:\", startNode)\n",
    "    print(\"goal point:\", goalNode)\n",
    "    path, expandedNode=bfs(expandedNode,graph, startNode, goalNode)\n",
    "    print(\"solution Path:\",path)\n",
    "    print(\"cost of the solution:\", len(path))\n",
    "    print(\"number of expanded nodes:\",len(expandedNode))\n",
    "    end = time.time()\n",
    "    print(\"actual running time of the program:\", end - start)\n",
    "    return path"
   ]
  },
  {
   "cell_type": "code",
   "execution_count": null,
   "metadata": {
    "collapsed": true
   },
   "outputs": [],
   "source": [
    "bfsSolPath = bfsAlgo(graph, startNode, goalNode)"
   ]
  },
  {
   "cell_type": "markdown",
   "metadata": {},
   "source": [
    "**Visualize Results**\n",
    "\n",
    "We use the function *finalPlot* to plot our state space together with the solution path.\n",
    "\n",
    "From sir carlo: Describe and show the diagram/picture of the input files that you have created and the solution path generated"
   ]
  },
  {
   "cell_type": "markdown",
   "metadata": {},
   "source": [
    "As to summarize the test case with the test case No. 1 above we have,"
   ]
  },
  {
   "cell_type": "code",
   "execution_count": null,
   "metadata": {
    "collapsed": true
   },
   "outputs": [],
   "source": [
    "def finalPlot(solPath, startNode, goalNode, shapes, imgName):\n",
    "    # plot the figure\n",
    "    plt.figure() \n",
    "    plt.gca().invert_yaxis()\n",
    "    \n",
    "    #plot obstacles    \n",
    "    for shape in shapes:\n",
    "        plot_polygon(shape)\n",
    "\n",
    "    #plot the solution path\n",
    "    for point in solPath:\n",
    "        plot_point(point)\n",
    "        \n",
    "    # plot starting and goal points\n",
    "    plot_point(startNode) \n",
    "    plot_point(goalNode)\n",
    "    plot_point((100, 200))\n",
    "\n",
    "    plt.savefig(imgName)\n",
    "    plt.show()"
   ]
  },
  {
   "cell_type": "code",
   "execution_count": null,
   "metadata": {
    "collapsed": true
   },
   "outputs": [],
   "source": [
    "#Test Case No. 1:\n",
    "startNode, goalNode, grid, shapes = createStateSpaceGrid('in1.txt','maze1.png')\n",
    "graph = createGraph(grid)  #create the graph dictionary\n",
    "bfsSolPath = bfsAlgo(graph, startNode, goalNode)\n",
    "finalPlot(bfsSolPath, startNode, goalNode, shapes, 'bfsTestOne.png')\n"
   ]
  },
  {
   "cell_type": "code",
   "execution_count": null,
   "metadata": {
    "collapsed": true
   },
   "outputs": [],
   "source": [
    "#Test Case No. 2:\n",
    "startNode, goalNode, grid, shapes = createStateSpaceGrid('in2.txt','maze2.png')\n",
    "graph = createGraph(grid)  #create the graph dictionary\n",
    "bfsSolPath = bfsAlgo(graph, startNode, goalNode)\n",
    "finalPlot(bfsSolPath, startNode, goalNode, shapes, 'bfsTestTwo.png')\n",
    "print(grid[20][20])"
   ]
  },
  {
   "cell_type": "code",
   "execution_count": null,
   "metadata": {
    "collapsed": true
   },
   "outputs": [],
   "source": [
    "#Test Case No. 3:\n",
    "startNode, goalNode, grid, shapes  = createStateSpaceGrid('in3.txt','maze3.png')\n",
    "graph = createGraph(grid)  #create the graph dictionary\n",
    "bfsSolPath = bfsAlgo(graph, startNode, goalNode)\n",
    "finalPlot(bfsSolPath, startNode, goalNode, shapes, 'bfsTestThree.png')"
   ]
  },
  {
   "cell_type": "code",
   "execution_count": null,
   "metadata": {
    "collapsed": true
   },
   "outputs": [],
   "source": [
    "#Test Case No. 4:\n",
    "startNode, goalNode, grid, shapes  = createStateSpaceGrid('in4.txt','maze4.png')\n",
    "graph = createGraph(grid)  #create the graph dictionary\n",
    "bfsSolPath = bfsAlgo(graph, startNode, goalNode)\n",
    "finalPlot(bfsSolPath, startNode, goalNode, shapes, 'bfsTestFour.png')"
   ]
  },
  {
   "cell_type": "code",
   "execution_count": null,
   "metadata": {
    "collapsed": true
   },
   "outputs": [],
   "source": [
    "#Test Case No. 5:\n",
    "startNode, goalNode, grid, shapes  = createStateSpaceGrid('in5.txt','maze5.png')\n",
    "graph = createGraph(grid)  #create the graph dictionary\n",
    "bfsSolPath = bfsAlgo(graph, startNode, goalNode)\n",
    "finalPlot(bfsSolPath, startNode, goalNode, shapes, 'bfsTestFive.png')"
   ]
  },
  {
   "cell_type": "markdown",
   "metadata": {},
   "source": [
    "   #### B. Depth-First Search(DFS) Implementation  \n",
    "\n",
    "**Problem Definition:**\n",
    "\n",
    "Given the starting and goal point, we are tasked to know the shortest solution path between those two points using the Depth-First Search Algorithm. \n",
    "\n",
    "\n",
    "**Data Structures**\n",
    "\n",
    "We use two data structures:\n",
    "   \n",
    "   (1) *path* is a dictionary to know the parent of the given node.\n",
    "   \n",
    "   (2) *visited* is a queue.\n",
    "\n",
    "   (3) *fringe* is a priority queue. \n",
    "\n",
    "\n",
    "**We proceed to the process:**\n",
    "\n",
    "1.we put the starting node in the fringe with priority 0\n",
    "\n",
    "2.we explore while the fringe still has nodes\n",
    "   \n",
    "3.so we pop the first element of the fringe which has the highest priority\n",
    "   \n",
    "4.put this to the expanded node\n",
    "  \n",
    "5.We check if the node that is expanded is the goal. We stop if it is and if not, we continue\n",
    "\n",
    "6.Since it's not the goal node, we look to its children\n",
    "that is if the node is not in the fringe, we append it\n",
    "to the fringe. \n",
    "\n",
    "7.Since in working with dfs, the fringe does the trick, we assign the priority depending on the depth of the node. We put the negative sign so that we consider them first as this is dfs. \n",
    "This also let us not use anymore the parent dictionary. \n",
    "\n",
    "\n",
    "We implement this solution in the code below:"
   ]
  },
  {
   "cell_type": "code",
   "execution_count": null,
   "metadata": {
    "collapsed": true
   },
   "outputs": [],
   "source": [
    "from queue import PriorityQueue\n",
    "from collections import defaultdict \n",
    "import time\n",
    "\n",
    "def dfs(expandedNode, graph, startNode, goalNode):\n",
    "    path = [startNode]\n",
    "    visited = []\n",
    "    fringe = PriorityQueue()\n",
    "    fringe.put((0, startNode, path, visited))\n",
    "\n",
    "    while fringe:\n",
    "        depth, currentNode, path, visited = fringe.get()\n",
    "        \n",
    "        expandedNode.append(currentNode)\n",
    "\n",
    "        if currentNode == goalNode: \n",
    "            return (path + [currentNode]),expandedNode\n",
    "          \n",
    "        if currentNode not in visited:\n",
    "          visited = visited + [currentNode]\n",
    "\n",
    "        for node in graph[currentNode]: #look at the children\n",
    "            if node not in visited:\n",
    "                if node == goalNode:\n",
    "                    expandedNode.append(node)\n",
    "                    return (path + [node]),expandedNode               \n",
    "                fringe.put((-len(path), node, path + [node], visited + [node]))\n",
    "    return path \n",
    "\n",
    "def dfsAlgo(graph, startNode, goalNode):\n",
    "    start = time.time()\n",
    "    expandedNode = []\n",
    "    print(\"starting point:\", startNode)\n",
    "    print(\"goal point:\", goalNode)\n",
    "    path, expandedNode= dfs(expandedNode, graph, startNode, goalNode)\n",
    "    print(\"solution path:\", path) \n",
    "    print(\"cost of the solution:\", len(path))\n",
    "    print(\"number of expanded nodes:\",len(expandedNode))\n",
    "    end = time.time()\n",
    "    print(\"actual running time of the program:\", end - start)\n",
    "    \n",
    "    return path"
   ]
  },
  {
   "cell_type": "code",
   "execution_count": null,
   "metadata": {
    "collapsed": true
   },
   "outputs": [],
   "source": [
    "dfsSolPath = dfsAlgo(graph, startNode, goalNode)"
   ]
  },
  {
   "cell_type": "markdown",
   "metadata": {},
   "source": [
    "**Visualize Results**\n",
    "\n",
    "We use the function *finalPlot* to plot our state space together with the solution path.\n",
    "\n",
    "From sir carlo: Describe and show the diagram/picture of the input files that you have created and the solution path generated"
   ]
  },
  {
   "cell_type": "code",
   "execution_count": null,
   "metadata": {
    "collapsed": true
   },
   "outputs": [],
   "source": [
    "#Test Case No. 1:\n",
    "startNode, goalNode, grid, shapes = createStateSpaceGrid('in1.txt','maze1.png')\n",
    "graph = createGraph(grid)  #create the graph dictionary\n",
    "dfsSolPath = dfsAlgo(graph, startNode, goalNode)\n",
    "finalPlot(dfsSolPath, startNode, goalNode, shapes, 'dfsTestOne.png')\n"
   ]
  },
  {
   "cell_type": "code",
   "execution_count": null,
   "metadata": {
    "collapsed": true
   },
   "outputs": [],
   "source": [
    "#Test Case No. 2:\n",
    "startNode, goalNode, grid, shapes = createStateSpaceGrid('in2.txt','maze2.png')\n",
    "graph = createGraph(grid)  #create the graph dictionary\n",
    "dfsSolPath = dfsAlgo(graph, startNode, goalNode)\n",
    "finalPlot(dfsSolPath, startNode, goalNode, shapes, 'dfsTestTwo.png')"
   ]
  },
  {
   "cell_type": "code",
   "execution_count": null,
   "metadata": {
    "collapsed": true
   },
   "outputs": [],
   "source": [
    "#Test Case No. 3:\n",
    "startNode, goalNode, grid, shapes = createStateSpaceGrid('in3.txt','maze3.png')\n",
    "graph = createGraph(grid)  #create the graph dictionary\n",
    "dfsSolPath = dfsAlgo(graph, startNode, goalNode)\n",
    "finalPlot(dfsSolPath, startNode, goalNode, shapes, 'dfsTestThree.png')"
   ]
  },
  {
   "cell_type": "code",
   "execution_count": null,
   "metadata": {
    "collapsed": true
   },
   "outputs": [],
   "source": [
    "#Test Case No. 4:\n",
    "startNode, goalNode, grid, shapes = createStateSpaceGrid('in4.txt','maze4.png')\n",
    "graph = createGraph(grid)  #create the graph dictionary\n",
    "dfsSolPath = dfsAlgo(graph, startNode, goalNode)\n",
    "finalPlot(dfsSolPath, startNode, goalNode, shapes, 'dfsTestFour.png')"
   ]
  },
  {
   "cell_type": "code",
   "execution_count": null,
   "metadata": {
    "collapsed": true
   },
   "outputs": [],
   "source": [
    "#Test Case No.5:\n",
    "startNode, goalNode, grid, shapes = createStateSpaceGrid('in5.txt','maze5.png')\n",
    "graph = createGraph(grid)  #create the graph dictionary\n",
    "dfsSolPath = dfsAlgo(graph, startNode, goalNode)\n",
    "finalPlot(dfsSolPath, startNode, goalNode, shapes, 'dfsTestFive.png')"
   ]
  },
  {
   "cell_type": "markdown",
   "metadata": {},
   "source": [
    "   #### C. A* Search Implementation  \n",
    "\n",
    "**Problem Definition:**\n",
    "\n",
    "Given the starting and goal point, we are tasked to know the shortest solution path between those two points using the A* Search Algorithm. \n",
    "\n",
    "\n",
    "**Heuristic Function**\n",
    "\n",
    "\n",
    "**Data Structures**\n",
    "We use two data structures:\n",
    "   \n",
    "   (1) \n",
    "   \n",
    "   (2) \n",
    "\n",
    "   (3) \n",
    "   \n",
    "**We proceed to the process:**\n",
    "\n",
    "1.\n",
    "\n",
    "2.\n",
    "   \n",
    "3.\n",
    "   \n",
    "4.\n",
    "  \n",
    "5.\n",
    "\n",
    "6.\n",
    "\n",
    "7.\n",
    "\n",
    "\n",
    "We implement this solution in the code below:"
   ]
  },
  {
   "cell_type": "code",
   "execution_count": null,
   "metadata": {
    "collapsed": true
   },
   "outputs": [],
   "source": [
    "insert functions here for A*"
   ]
  },
  {
   "cell_type": "code",
   "execution_count": null,
   "metadata": {
    "collapsed": true
   },
   "outputs": [],
   "source": [
    "AstarAlgo(graph, startNode, goalNode)"
   ]
  },
  {
   "cell_type": "markdown",
   "metadata": {},
   "source": [
    "**Seeing the solution path visually we have**\n",
    "\n",
    "note to Lois and Ri! insert below the plot of solution path and the state space\n",
    "\n",
    "From sir carlo: Describe and show the diagram/picture of the input files that you have created and the solution path generated"
   ]
  },
  {
   "cell_type": "code",
   "execution_count": null,
   "metadata": {
    "collapsed": true
   },
   "outputs": [],
   "source": [
    "#just edit this to show the path in the grid \n",
    "gridResultAstar = grid #Be sure to do this! We still want to reuse the statespace in the next algos\n",
    "for (i,j) in path:\n",
    "    gridResultAstar[i][j]= '*'\n",
    "print(grid) #change this to plot!!!"
   ]
  },
  {
   "cell_type": "markdown",
   "metadata": {},
   "source": [
    "## Analysis: \n",
    "\n",
    "Note to Lois and Ri from sir carlo!\n",
    "\n",
    "An analysis and comparison of the different search methods based on relevant criteria, along with appropriate conclusions\n",
    "\n",
    "#### Breadth-First Search Implementation\n",
    "\n"
   ]
  },
  {
   "cell_type": "markdown",
   "metadata": {},
   "source": [
    "##### References:\n",
    "\n",
    "https://codereview.stackexchange.com/questions/135156/bfs-implementation-in-python-3 \n",
    "\n",
    "https://dbader.org/blog/priority-queues-in-python\n",
    "\n",
    "https://medium.com/@lennyboyatzis/ai-teaching-pacman-to-search-with-depth-first-search-ee57daf889ab"
   ]
  }
 ],
 "metadata": {
  "kernelspec": {
   "display_name": "Python 3",
   "language": "python",
   "name": "python3"
  },
  "language_info": {
   "codemirror_mode": {
    "name": "ipython",
    "version": 3
   },
   "file_extension": ".py",
   "mimetype": "text/x-python",
   "name": "python",
   "nbconvert_exporter": "python",
   "pygments_lexer": "ipython3",
   "version": "3.6.8"
  }
 },
 "nbformat": 4,
 "nbformat_minor": 2
}
