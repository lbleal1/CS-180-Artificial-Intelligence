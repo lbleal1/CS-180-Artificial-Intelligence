{
 "cells": [
  {
   "cell_type": "markdown",
   "metadata": {},
   "source": [
    "# Machine Problem  1 - Path Planning\n",
    "### **Cruz, Rianna**   \n",
    "### **Leal, Lois Anne**"
   ]
  },
  {
   "cell_type": "markdown",
   "metadata": {},
   "source": [
    "**Problem Description**: \n",
    "Consider the problem of finding the shortest path between two points on a plane that has polygonal obstacles. This is an idealization of the problem a robot has to solve to navigate it way around a crowded environment."
   ]
  },
  {
   "cell_type": "markdown",
   "metadata": {},
   "source": [
    "**Solution Proper**"
   ]
  },
  {
   "cell_type": "markdown",
   "metadata": {},
   "source": [
    "**1. Setting up the State Space**\n",
    "\n",
    "expected output: a 100 x 200 grid"
   ]
  },
  {
   "cell_type": "code",
   "execution_count": 1,
   "metadata": {},
   "outputs": [
    {
     "name": "stdout",
     "output_type": "stream",
     "text": [
      "[[0, 0, 0, 0, 0], [0, 1, 1, 1, 0], [0, 1, 0, 1, 0], [0, 1, 1, 1, 0], [0, 0, 0, 0, 0]]\n"
     ]
    }
   ],
   "source": [
    "grid= [ [0, 0, 0, 0, 0],\n",
    "        [0, 1, 1, 1, 0],\n",
    "        [0, 1, 0, 1, 0],\n",
    "        [0, 1, 1, 1, 0],\n",
    "        [0, 0, 0, 0, 0],\n",
    "      ]\n",
    "print(grid) "
   ]
  },
  {
   "cell_type": "markdown",
   "metadata": {},
   "source": [
    "**2. Convert from Grid to Graph Dictionary**"
   ]
  },
  {
   "cell_type": "markdown",
   "metadata": {},
   "source": [
    "This does the trick. For each cell in the grid, we see them as nodes of the graph. In the code below, what it does is that, for each node in the grid, we consider as a parent node and its children as the possible moves which are left, right, top and bottom. \n",
    "\n",
    "***Note***: Cells that belong to the side of the polygon obstacles are not included in the parent node and also in the children of the other nodes."
   ]
  },
  {
   "cell_type": "code",
   "execution_count": 4,
   "metadata": {},
   "outputs": [],
   "source": [
    "from collections import defaultdict \n",
    "\n",
    "def addEdge(graph,u,v): \n",
    "    graph[u].append(v)\n",
    "\n",
    "\n",
    "def createGraph(grid):\n",
    "    #get the size of the grid\n",
    "    rows = len(grid) \n",
    "    cols = len(grid[0])\n",
    "\n",
    "    graph = defaultdict(list) \n",
    "    for row in range(rows):\n",
    "        for col in range(cols):\n",
    "            if col != 0 and grid[row][col]!=1:\n",
    "                addEdge(graph,(row,col),(row,col-1)) #left\n",
    "            if col < cols-1 and grid[row][col]!=1:\n",
    "                addEdge(graph,(row,col),(row,col+1)) #right\n",
    "            if row != 0 and grid[row][col]!=1:\n",
    "                addEdge(graph,(row,col),(row-1,col)) #top\n",
    "            if row < rows-1 and grid[row][col]!=1:\n",
    "                addEdge(graph,(row,col),(row+1,col)) #bottom\n",
    "    \n",
    "    return graph\n",
    "\n",
    "graph = createGraph(grid)   "
   ]
  },
  {
   "cell_type": "code",
   "execution_count": 5,
   "metadata": {},
   "outputs": [
    {
     "name": "stdout",
     "output_type": "stream",
     "text": [
      "(0, 0) : [(0, 1), (1, 0)]\n",
      "(0, 1) : [(0, 0), (0, 2), (1, 1)]\n",
      "(0, 2) : [(0, 1), (0, 3), (1, 2)]\n",
      "(0, 3) : [(0, 2), (0, 4), (1, 3)]\n",
      "(0, 4) : [(0, 3), (1, 4)]\n",
      "(1, 0) : [(1, 1), (0, 0), (2, 0)]\n",
      "(1, 4) : [(1, 3), (0, 4), (2, 4)]\n",
      "(2, 0) : [(2, 1), (1, 0), (3, 0)]\n",
      "(2, 2) : [(2, 1), (2, 3), (1, 2), (3, 2)]\n",
      "(2, 4) : [(2, 3), (1, 4), (3, 4)]\n",
      "(3, 0) : [(3, 1), (2, 0), (4, 0)]\n",
      "(3, 4) : [(3, 3), (2, 4), (4, 4)]\n",
      "(4, 0) : [(4, 1), (3, 0)]\n",
      "(4, 1) : [(4, 0), (4, 2), (3, 1)]\n",
      "(4, 2) : [(4, 1), (4, 3), (3, 2)]\n",
      "(4, 3) : [(4, 2), (4, 4), (3, 3)]\n",
      "(4, 4) : [(4, 3), (3, 4)]\n"
     ]
    }
   ],
   "source": [
    "#print graph \n",
    "for k,v in graph.items():\n",
    "    print(k,':',v)"
   ]
  },
  {
   "cell_type": "markdown",
   "metadata": {},
   "source": [
    "**3. Search Algorithms**"
   ]
  },
  {
   "cell_type": "markdown",
   "metadata": {},
   "source": [
    "**I. Breadth First Search Implementation**  "
   ]
  }
 ],
 "metadata": {
  "kernelspec": {
   "display_name": "Python 3",
   "language": "python",
   "name": "python3"
  },
  "language_info": {
   "codemirror_mode": {
    "name": "ipython",
    "version": 3
   },
   "file_extension": ".py",
   "mimetype": "text/x-python",
   "name": "python",
   "nbconvert_exporter": "python",
   "pygments_lexer": "ipython3",
   "version": "3.6.7"
  }
 },
 "nbformat": 4,
 "nbformat_minor": 2
}
