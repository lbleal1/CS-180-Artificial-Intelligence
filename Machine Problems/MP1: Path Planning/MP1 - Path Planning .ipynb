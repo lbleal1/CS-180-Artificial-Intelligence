{
 "cells": [
  {
   "cell_type": "markdown",
   "metadata": {},
   "source": [
    "# Machine Problem  1 - Path Planning\n",
    "### Cruz, Rianna  \n",
    "### Leal, Lois Anne"
   ]
  },
  {
   "cell_type": "markdown",
   "metadata": {},
   "source": [
    "**Problem Description**: \n",
    "Consider the problem of finding the shortest path between two points on a plane that has polygonal obstacles. This is an idealization of the problem a robot has to solve to navigate it way around a crowded environment."
   ]
  },
  {
   "cell_type": "markdown",
   "metadata": {},
   "source": [
    "**Solution**"
   ]
  },
  {
   "cell_type": "markdown",
   "metadata": {},
   "source": [
    "**1. Setting up the State Space**"
   ]
  },
  {
   "cell_type": "markdown",
   "metadata": {},
   "source": [
    "**2. Conversion of State Space to a Binary Tree**\n",
    "\n",
    "a. Find a pattern in the state space and store them in a list in level order\n",
    "\n",
    "b. Use the binarytree library to build the state space\n",
    "\n",
    "c. "
   ]
  },
  {
   "cell_type": "markdown",
   "metadata": {},
   "source": [
    "**3. From Binary Tree to graph dictionary**"
   ]
  },
  {
   "cell_type": "code",
   "execution_count": 8,
   "metadata": {},
   "outputs": [
    {
     "name": "stdout",
     "output_type": "stream",
     "text": [
      "\n",
      "        __1__\n",
      "       /     \\\n",
      "    __0       0\n",
      "   /   \\     / \\\n",
      "  0     0   0   0\n",
      " / \\\n",
      "0   9\n",
      "\n",
      "defaultdict(<class 'list'>, {Node(1): [Node(0), Node(0)], Node(0): [Node(0), Node(0)], Node(0): [Node(0), Node(0)], Node(0): [Node(0), Node(9)]})\n"
     ]
    }
   ],
   "source": [
    "from binarytree import build\n",
    "from collections import defaultdict \n",
    "\n",
    "graph = defaultdict(list) \n",
    "expandedNode = []\n",
    "def addEdge(graph,u,v): \n",
    "    graph[u].append(v) \n",
    "\n",
    "\n",
    "values = [1, 0, 0, 0, 0, 0, 0, 0, 9] #change this to the level order traversal output from grid\n",
    "root = build(values)\n",
    "\n",
    "for node in root:\n",
    "    if (node.left and node.right) != None:\n",
    "        addEdge(graph,node,node.left)\n",
    "        addEdge(graph,node,node.right)\n",
    "\n",
    "print(root) #visualize binary tree\n",
    "print(graph) #see graph dictionary     \n"
   ]
  },
  {
   "cell_type": "markdown",
   "metadata": {},
   "source": [
    "**3. Search Algorithm**"
   ]
  },
  {
   "cell_type": "markdown",
   "metadata": {},
   "source": [
    "**I. Breadth First Search Implementation**  "
   ]
  },
  {
   "cell_type": "code",
   "execution_count": 9,
   "metadata": {},
   "outputs": [
    {
     "name": "stdout",
     "output_type": "stream",
     "text": [
      "Solution Path: [Node(1), Node(0), Node(0), Node(9)]\n",
      "Expanded Nodes: [Node(1), Node(0), Node(0), Node(0), Node(0), Node(0), Node(0), Node(0), Node(9)]\n"
     ]
    }
   ],
   "source": [
    "def backtrace(parent, start, end):\n",
    "    path = [end]\n",
    "    while path[-1] != start:\n",
    "        path.append(parent[path[-1]])\n",
    "    path.reverse()\n",
    "    return path\n",
    "\n",
    "def bfs(graph, start, goal):\n",
    "    parent = {} \n",
    "    fringe = [] \n",
    "    fringe.append(start) #append starting node\n",
    "    while fringe:\n",
    "        node = fringe.pop(0) #get vertex\n",
    "        expandedNode.append(node) #append the considered vertex to the Expanded Nodes\n",
    "        if node == goal: #if reaches goal node\n",
    "            return backtrace(parent, start, goal)\n",
    "        for adjacent in graph.get(node, []): #consider the children of the popped node \n",
    "            if node not in fringe : \n",
    "                parent[adjacent] = node  \n",
    "                fringe.append(adjacent) \n",
    "                \n",
    "startNode = root[0]\n",
    "goalNode = root[8]\n",
    "print(\"Solution Path:\",bfs(graph, startNode, goalNode))\n",
    "print(\"Expanded Nodes:\",expandedNode)"
   ]
  },
  {
   "cell_type": "code",
   "execution_count": null,
   "metadata": {},
   "outputs": [],
   "source": []
  },
  {
   "cell_type": "code",
   "execution_count": null,
   "metadata": {},
   "outputs": [],
   "source": []
  }
 ],
 "metadata": {
  "kernelspec": {
   "display_name": "Python 3",
   "language": "python",
   "name": "python3"
  },
  "language_info": {
   "codemirror_mode": {
    "name": "ipython",
    "version": 3
   },
   "file_extension": ".py",
   "mimetype": "text/x-python",
   "name": "python",
   "nbconvert_exporter": "python",
   "pygments_lexer": "ipython3",
   "version": "3.6.7"
  }
 },
 "nbformat": 4,
 "nbformat_minor": 2
}
