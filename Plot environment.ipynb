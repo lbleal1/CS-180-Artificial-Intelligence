{
 "cells": [
  {
   "cell_type": "code",
   "execution_count": 3,
   "metadata": {},
   "outputs": [
    {
     "name": "stdout",
     "output_type": "stream",
     "text": [
      "[[[1. 1. 1. 1.]\n",
      "  [1. 1. 1. 1.]\n",
      "  [1. 1. 1. 1.]\n",
      "  ...\n",
      "  [1. 1. 1. 1.]\n",
      "  [1. 1. 1. 1.]\n",
      "  [1. 1. 1. 1.]]\n",
      "\n",
      " [[1. 1. 1. 1.]\n",
      "  [1. 1. 1. 1.]\n",
      "  [1. 1. 1. 1.]\n",
      "  ...\n",
      "  [1. 1. 1. 1.]\n",
      "  [1. 1. 1. 1.]\n",
      "  [1. 1. 1. 1.]]\n",
      "\n",
      " [[1. 1. 1. 1.]\n",
      "  [1. 1. 1. 1.]\n",
      "  [1. 1. 1. 1.]\n",
      "  ...\n",
      "  [1. 1. 1. 1.]\n",
      "  [1. 1. 1. 1.]\n",
      "  [1. 1. 1. 1.]]\n",
      "\n",
      " ...\n",
      "\n",
      " [[1. 1. 1. 1.]\n",
      "  [1. 1. 1. 1.]\n",
      "  [1. 1. 1. 1.]\n",
      "  ...\n",
      "  [1. 1. 1. 1.]\n",
      "  [1. 1. 1. 1.]\n",
      "  [1. 1. 1. 1.]]\n",
      "\n",
      " [[1. 1. 1. 1.]\n",
      "  [1. 1. 1. 1.]\n",
      "  [1. 1. 1. 1.]\n",
      "  ...\n",
      "  [1. 1. 1. 1.]\n",
      "  [1. 1. 1. 1.]\n",
      "  [1. 1. 1. 1.]]\n",
      "\n",
      " [[1. 1. 1. 1.]\n",
      "  [1. 1. 1. 1.]\n",
      "  [1. 1. 1. 1.]\n",
      "  ...\n",
      "  [1. 1. 1. 1.]\n",
      "  [1. 1. 1. 1.]\n",
      "  [1. 1. 1. 1.]]]\n"
     ]
    }
   ],
   "source": [
    "import matplotlib.pyplot as plt\n",
    "\n",
    "\n",
    "coord = [[10,10], [20,10], [20,20], [10,20], [5,15]]\n",
    "coord.append(coord[0]) #repeat the first point to create a 'closed loop'\n",
    "xs, ys = zip(*coord) #create lists of x and y values\n",
    "\n",
    "# fig.set_size_inches(200,100)\n",
    "plt.plot(xs,ys) \n",
    "plt.plot(100, 200)\n",
    "\n",
    "\n",
    "coord = [[50,50], [30,50], [30,40]]\n",
    "coord.append(coord[0]) #repeat the first point to create a 'closed loop'\n",
    "xs, ys = zip(*coord) #create lists of x and y values\n",
    "\n",
    "# fig.set_size_inches(200,100)\n",
    "plt.plot(xs,ys) \n",
    "plt.plot(100, 200)\n",
    "\n",
    "plt.savefig('maze.png')\n",
    "\n",
    "image = plt.imread('maze.png')\n",
    "print(image)"
   ]
  },
  {
   "cell_type": "code",
   "execution_count": 1,
   "metadata": {},
   "outputs": [
    {
     "data": {
      "image/png": "[encoded data removed]",
      "text/plain": [
       "<Figure size 432x288 with 1 Axes>"
      ]
     },
     "metadata": {},
     "output_type": "display_data"
    }
   ],
   "source": [
    "import matplotlib.pyplot as plt\n",
    "import cv2\n",
    "\n",
    "\n",
    "my_dpi = 96\n",
    "\n",
    "\n",
    "plt.figure()\n",
    "\n",
    "\n",
    "def plot_polygon(coord):\n",
    "    coord.append(coord[0]) #repeat the first point to create a 'closed loop'\n",
    "    xs, ys = zip(*coord) #create lists of x and y values\n",
    "    plt.plot(xs,ys, linewidth=3) \n",
    "\n",
    "def plot_point(x, y):\n",
    "    plt.scatter(x, y, 30)\n",
    "\n",
    "\n",
    "plot_polygon( [[10,10], [20,10], [20,20], [10,20], [5,15]] )\n",
    "plot_polygon( [[50,50], [30,50], [30,40]] )\n",
    "plot_polygon( [[100,50], [20,80], [120,80]] )\n",
    "\n",
    "plot_point(100, 90)\n",
    "\n",
    "plt.plot(100, 200)\n",
    "plt.axis('off')\n",
    "\n",
    "plt.savefig('maze.png')\n",
    "plt.clf() \n",
    "\n",
    "img = cv2.imread('maze.png', cv2.IMREAD_GRAYSCALE)\n",
    "\n",
    "imgplot = plt.imshow(img, cmap='Greys_r')\n",
    "\n",
    "\n",
    "plt.axis('off')\n",
    "plt.show()\n",
    "\n"
   ]
  },
  {
   "cell_type": "code",
   "execution_count": null,
   "metadata": {
    "collapsed": true
   },
   "outputs": [],
   "source": []
  }
 ],
 "metadata": {
  "kernelspec": {
   "display_name": "Python 3",
   "language": "python",
   "name": "python3"
  },
  "language_info": {
   "codemirror_mode": {
    "name": "ipython",
    "version": 3
   },
   "file_extension": ".py",
   "mimetype": "text/x-python",
   "name": "python",
   "nbconvert_exporter": "python",
   "pygments_lexer": "ipython3",
   "version": "3.6.8"
  }
 },
 "nbformat": 4,
 "nbformat_minor": 2
}
